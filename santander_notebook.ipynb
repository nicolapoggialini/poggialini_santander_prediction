{
 "cells": [
  {
   "cell_type": "markdown",
   "id": "ae48decd",
   "metadata": {
    "id": "ae48decd"
   },
   "source": [
    "# Machine Learning Project Work"
   ]
  },
  {
   "cell_type": "markdown",
   "id": "3Sp8lP3wXv4q",
   "metadata": {
    "id": "3Sp8lP3wXv4q"
   },
   "source": [
    "## Task Description\n",
    "\n",
    "This project is about tackling the Kaggle competition **\"Santander Customer Transaction Prediction - Can you identify who will make a transaction?\"** (https://www.kaggle.com/competitions/santander-customer-transaction-prediction/overview)\n",
    "\n",
    "I'll report below the description of the **task**:\n",
    "\n",
    "\"At Santander our mission is to help people and businesses prosper. We are always looking for ways to help our customers understand their financial health and identify which products and services might help them achieve their monetary goals.\n",
    "\n",
    "Our data science team is continually challenging our machine learning algorithms, working with the global data science community to make sure we can more accurately identify new ways to solve our most common challenge, **binary classification** problems such as: is a customer satisfied? Will a customer buy this product? Can a customer pay this loan?\n",
    "\n",
    "In this challenge, we invite Kagglers to help us **identify which customers will make a specific transaction in the future**, irrespective of the amount of money transacted. The data provided for this competition has the same structure as the real data we have available to solve this problem.\"\n",
    "\n",
    "As we can see, the task is about a common problem nowdays: predicting the future behaviour of customers. In particular, in this case we're facing a binary classification problem, in which the goal is to build a model able to predict whether a customer will make a certain transaction or not."
   ]
  },
  {
   "cell_type": "markdown",
   "id": "w-PBMHxTXzoc",
   "metadata": {
    "id": "w-PBMHxTXzoc"
   },
   "source": [
    "\n",
    "## Operating environment\n",
    "All the experiements have been done in a Jupyter notebook using the local CPU. The classification and evaluation are done using the sklearn and imblearn libraries (the latter for implementing the algorithms for unbalanced data)."
   ]
  },
  {
   "cell_type": "markdown",
   "id": "CKqhevdWX1In",
   "metadata": {
    "id": "CKqhevdWX1In"
   },
   "source": [
    "### Libraries and modules"
   ]
  },
  {
   "cell_type": "code",
   "execution_count": 1,
   "id": "739affcf",
   "metadata": {
    "executionInfo": {
     "elapsed": 3361,
     "status": "ok",
     "timestamp": 1675531451585,
     "user": {
      "displayName": "Nicola Poggialini",
      "userId": "11981468023328037551"
     },
     "user_tz": -60
    },
    "id": "739affcf"
   },
   "outputs": [],
   "source": [
    "# Import the libraries necessary for the task\n",
    "\n",
    "import opendatasets\n",
    "import pandas as pd\n",
    "import json\n",
    "import requests\n",
    "%matplotlib inline\n",
    "import matplotlib.pyplot as plt\n",
    "import numpy as np\n",
    "plt.style.use('ggplot')\n",
    "import random\n",
    "import sklearn\n",
    "from sklearn.model_selection import train_test_split\n",
    "from sklearn.model_selection import GridSearchCV\n",
    "from sklearn.metrics import classification_report\n",
    "from sklearn.metrics import f1_score\n",
    "from sklearn.tree import DecisionTreeClassifier\n",
    "from sklearn.ensemble import RandomForestClassifier\n",
    "from sklearn.preprocessing import StandardScaler\n",
    "from sklearn.linear_model import LogisticRegression\n",
    "from imblearn.under_sampling import NearMiss\n",
    "from imblearn.over_sampling import SMOTE\n",
    "from imblearn.combine import SMOTETomek\n",
    "from sklearn.decomposition import PCA\n",
    "from sklearn.neighbors import KNeighborsClassifier\n",
    "from sklearn.feature_selection import SelectKBest\n",
    "from sklearn.feature_selection import f_classif\n",
    "from sklearn.feature_selection import mutual_info_classif\n",
    "from sklearn.feature_selection import SelectFromModel\n",
    "from sklearn.naive_bayes import GaussianNB\n",
    "from sklearn.svm import SVC\n",
    "from sklearn.metrics import confusion_matrix\n",
    "from sklearn.metrics import ConfusionMatrixDisplay\n",
    "import pickle\n",
    "\n",
    "\n",
    "random_state = 1\n",
    "#random.seed(random_state)\n",
    "#np.random.seed(random_state)"
   ]
  },
  {
   "cell_type": "markdown",
   "id": "9A52VDElf7Xk",
   "metadata": {
    "id": "9A52VDElf7Xk"
   },
   "source": [
    "## Data"
   ]
  },
  {
   "cell_type": "markdown",
   "id": "5c3c85ae",
   "metadata": {},
   "source": [
    "### Load data"
   ]
  },
  {
   "cell_type": "code",
   "execution_count": 2,
   "id": "35788f52",
   "metadata": {},
   "outputs": [
    {
     "name": "stdout",
     "output_type": "stream",
     "text": [
      "Downloading santander-customer-transaction-prediction.zip to .\\santander-customer-transaction-prediction\n"
     ]
    },
    {
     "name": "stderr",
     "output_type": "stream",
     "text": [
      "100%|███████████████████████████████████████████████████████████████████████████████| 250M/250M [02:17<00:00, 1.91MB/s]\n"
     ]
    },
    {
     "name": "stdout",
     "output_type": "stream",
     "text": [
      "\n",
      "Extracting archive .\\santander-customer-transaction-prediction/santander-customer-transaction-prediction.zip to .\\santander-customer-transaction-prediction\n"
     ]
    }
   ],
   "source": [
    "opendatasets.download('https://www.kaggle.com/competitions/santander-customer-transaction-prediction/data')"
   ]
  },
  {
   "cell_type": "markdown",
   "id": "64914d97",
   "metadata": {
    "id": "64914d97"
   },
   "source": [
    "### Data exploration\n",
    "\n",
    "First of all, let's have a look at the dataset provided for this task.\n",
    "\n",
    "( The Kaggle competition provides two datasets: train.csv and test.csv. Since the test one doesn't have the target variable (so it won't be possible to compute the final metrics on it) I'll just use the train dataset and extract a test set )"
   ]
  },
  {
   "cell_type": "code",
   "execution_count": 2,
   "id": "88a1c4df",
   "metadata": {
    "colab": {
     "base_uri": "https://localhost:8080/"
    },
    "executionInfo": {
     "elapsed": 9881,
     "status": "ok",
     "timestamp": 1675531776841,
     "user": {
      "displayName": "Nicola Poggialini",
      "userId": "11981468023328037551"
     },
     "user_tz": -60
    },
    "id": "88a1c4df",
    "outputId": "86a1e03b-6e37-4743-b5d8-8ad8af4fcf4b"
   },
   "outputs": [
    {
     "name": "stdout",
     "output_type": "stream",
     "text": [
      "(200000, 202)\n"
     ]
    }
   ],
   "source": [
    "# at the end of the project consider to put the dataset on github (tar extension maybe and unzip it?) and load it from it\n",
    "\n",
    "# Load the dataset and print its shape\n",
    "\n",
    "df = pd.read_csv(\"./santander-customer-transaction-prediction/train.csv\")\n",
    "\n",
    "print(df.shape)"
   ]
  },
  {
   "cell_type": "code",
   "execution_count": 6,
   "id": "e8690f29",
   "metadata": {
    "colab": {
     "base_uri": "https://localhost:8080/",
     "height": 299
    },
    "executionInfo": {
     "elapsed": 244,
     "status": "ok",
     "timestamp": 1675531779610,
     "user": {
      "displayName": "Nicola Poggialini",
      "userId": "11981468023328037551"
     },
     "user_tz": -60
    },
    "id": "e8690f29",
    "outputId": "cc8cb643-48cc-4ab7-a7ce-9066b607a3a0"
   },
   "outputs": [
    {
     "data": {
      "text/html": [
       "<div>\n",
       "<style scoped>\n",
       "    .dataframe tbody tr th:only-of-type {\n",
       "        vertical-align: middle;\n",
       "    }\n",
       "\n",
       "    .dataframe tbody tr th {\n",
       "        vertical-align: top;\n",
       "    }\n",
       "\n",
       "    .dataframe thead th {\n",
       "        text-align: right;\n",
       "    }\n",
       "</style>\n",
       "<table border=\"1\" class=\"dataframe\">\n",
       "  <thead>\n",
       "    <tr style=\"text-align: right;\">\n",
       "      <th></th>\n",
       "      <th>ID_code</th>\n",
       "      <th>target</th>\n",
       "      <th>var_0</th>\n",
       "      <th>var_1</th>\n",
       "      <th>var_2</th>\n",
       "      <th>var_3</th>\n",
       "      <th>var_4</th>\n",
       "      <th>var_5</th>\n",
       "      <th>var_6</th>\n",
       "      <th>var_7</th>\n",
       "      <th>...</th>\n",
       "      <th>var_190</th>\n",
       "      <th>var_191</th>\n",
       "      <th>var_192</th>\n",
       "      <th>var_193</th>\n",
       "      <th>var_194</th>\n",
       "      <th>var_195</th>\n",
       "      <th>var_196</th>\n",
       "      <th>var_197</th>\n",
       "      <th>var_198</th>\n",
       "      <th>var_199</th>\n",
       "    </tr>\n",
       "  </thead>\n",
       "  <tbody>\n",
       "    <tr>\n",
       "      <th>0</th>\n",
       "      <td>train_0</td>\n",
       "      <td>0</td>\n",
       "      <td>8.9255</td>\n",
       "      <td>-6.7863</td>\n",
       "      <td>11.9081</td>\n",
       "      <td>5.0930</td>\n",
       "      <td>11.4607</td>\n",
       "      <td>-9.2834</td>\n",
       "      <td>5.1187</td>\n",
       "      <td>18.6266</td>\n",
       "      <td>...</td>\n",
       "      <td>4.4354</td>\n",
       "      <td>3.9642</td>\n",
       "      <td>3.1364</td>\n",
       "      <td>1.6910</td>\n",
       "      <td>18.5227</td>\n",
       "      <td>-2.3978</td>\n",
       "      <td>7.8784</td>\n",
       "      <td>8.5635</td>\n",
       "      <td>12.7803</td>\n",
       "      <td>-1.0914</td>\n",
       "    </tr>\n",
       "    <tr>\n",
       "      <th>1</th>\n",
       "      <td>train_1</td>\n",
       "      <td>0</td>\n",
       "      <td>11.5006</td>\n",
       "      <td>-4.1473</td>\n",
       "      <td>13.8588</td>\n",
       "      <td>5.3890</td>\n",
       "      <td>12.3622</td>\n",
       "      <td>7.0433</td>\n",
       "      <td>5.6208</td>\n",
       "      <td>16.5338</td>\n",
       "      <td>...</td>\n",
       "      <td>7.6421</td>\n",
       "      <td>7.7214</td>\n",
       "      <td>2.5837</td>\n",
       "      <td>10.9516</td>\n",
       "      <td>15.4305</td>\n",
       "      <td>2.0339</td>\n",
       "      <td>8.1267</td>\n",
       "      <td>8.7889</td>\n",
       "      <td>18.3560</td>\n",
       "      <td>1.9518</td>\n",
       "    </tr>\n",
       "    <tr>\n",
       "      <th>2</th>\n",
       "      <td>train_2</td>\n",
       "      <td>0</td>\n",
       "      <td>8.6093</td>\n",
       "      <td>-2.7457</td>\n",
       "      <td>12.0805</td>\n",
       "      <td>7.8928</td>\n",
       "      <td>10.5825</td>\n",
       "      <td>-9.0837</td>\n",
       "      <td>6.9427</td>\n",
       "      <td>14.6155</td>\n",
       "      <td>...</td>\n",
       "      <td>2.9057</td>\n",
       "      <td>9.7905</td>\n",
       "      <td>1.6704</td>\n",
       "      <td>1.6858</td>\n",
       "      <td>21.6042</td>\n",
       "      <td>3.1417</td>\n",
       "      <td>-6.5213</td>\n",
       "      <td>8.2675</td>\n",
       "      <td>14.7222</td>\n",
       "      <td>0.3965</td>\n",
       "    </tr>\n",
       "    <tr>\n",
       "      <th>3</th>\n",
       "      <td>train_3</td>\n",
       "      <td>0</td>\n",
       "      <td>11.0604</td>\n",
       "      <td>-2.1518</td>\n",
       "      <td>8.9522</td>\n",
       "      <td>7.1957</td>\n",
       "      <td>12.5846</td>\n",
       "      <td>-1.8361</td>\n",
       "      <td>5.8428</td>\n",
       "      <td>14.9250</td>\n",
       "      <td>...</td>\n",
       "      <td>4.4666</td>\n",
       "      <td>4.7433</td>\n",
       "      <td>0.7178</td>\n",
       "      <td>1.4214</td>\n",
       "      <td>23.0347</td>\n",
       "      <td>-1.2706</td>\n",
       "      <td>-2.9275</td>\n",
       "      <td>10.2922</td>\n",
       "      <td>17.9697</td>\n",
       "      <td>-8.9996</td>\n",
       "    </tr>\n",
       "    <tr>\n",
       "      <th>4</th>\n",
       "      <td>train_4</td>\n",
       "      <td>0</td>\n",
       "      <td>9.8369</td>\n",
       "      <td>-1.4834</td>\n",
       "      <td>12.8746</td>\n",
       "      <td>6.6375</td>\n",
       "      <td>12.2772</td>\n",
       "      <td>2.4486</td>\n",
       "      <td>5.9405</td>\n",
       "      <td>19.2514</td>\n",
       "      <td>...</td>\n",
       "      <td>-1.4905</td>\n",
       "      <td>9.5214</td>\n",
       "      <td>-0.1508</td>\n",
       "      <td>9.1942</td>\n",
       "      <td>13.2876</td>\n",
       "      <td>-1.5121</td>\n",
       "      <td>3.9267</td>\n",
       "      <td>9.5031</td>\n",
       "      <td>17.9974</td>\n",
       "      <td>-8.8104</td>\n",
       "    </tr>\n",
       "  </tbody>\n",
       "</table>\n",
       "<p>5 rows × 202 columns</p>\n",
       "</div>"
      ],
      "text/plain": [
       "   ID_code  target    var_0   var_1    var_2   var_3    var_4   var_5   var_6  \\\n",
       "0  train_0       0   8.9255 -6.7863  11.9081  5.0930  11.4607 -9.2834  5.1187   \n",
       "1  train_1       0  11.5006 -4.1473  13.8588  5.3890  12.3622  7.0433  5.6208   \n",
       "2  train_2       0   8.6093 -2.7457  12.0805  7.8928  10.5825 -9.0837  6.9427   \n",
       "3  train_3       0  11.0604 -2.1518   8.9522  7.1957  12.5846 -1.8361  5.8428   \n",
       "4  train_4       0   9.8369 -1.4834  12.8746  6.6375  12.2772  2.4486  5.9405   \n",
       "\n",
       "     var_7  ...  var_190  var_191  var_192  var_193  var_194  var_195  \\\n",
       "0  18.6266  ...   4.4354   3.9642   3.1364   1.6910  18.5227  -2.3978   \n",
       "1  16.5338  ...   7.6421   7.7214   2.5837  10.9516  15.4305   2.0339   \n",
       "2  14.6155  ...   2.9057   9.7905   1.6704   1.6858  21.6042   3.1417   \n",
       "3  14.9250  ...   4.4666   4.7433   0.7178   1.4214  23.0347  -1.2706   \n",
       "4  19.2514  ...  -1.4905   9.5214  -0.1508   9.1942  13.2876  -1.5121   \n",
       "\n",
       "   var_196  var_197  var_198  var_199  \n",
       "0   7.8784   8.5635  12.7803  -1.0914  \n",
       "1   8.1267   8.7889  18.3560   1.9518  \n",
       "2  -6.5213   8.2675  14.7222   0.3965  \n",
       "3  -2.9275  10.2922  17.9697  -8.9996  \n",
       "4   3.9267   9.5031  17.9974  -8.8104  \n",
       "\n",
       "[5 rows x 202 columns]"
      ]
     },
     "execution_count": 6,
     "metadata": {},
     "output_type": "execute_result"
    }
   ],
   "source": [
    "# Observe the structure of the dataset using the first 5 instances\n",
    "\n",
    "df.head()"
   ]
  },
  {
   "cell_type": "code",
   "execution_count": 15,
   "id": "ba4279b8",
   "metadata": {
    "colab": {
     "base_uri": "https://localhost:8080/"
    },
    "executionInfo": {
     "elapsed": 243,
     "status": "ok",
     "timestamp": 1675531783758,
     "user": {
      "displayName": "Nicola Poggialini",
      "userId": "11981468023328037551"
     },
     "user_tz": -60
    },
    "id": "ba4279b8",
    "outputId": "00cf05f2-dece-4966-8376-3d39818093d4"
   },
   "outputs": [
    {
     "name": "stdout",
     "output_type": "stream",
     "text": [
      "There are 0 rows with missing values.\n"
     ]
    }
   ],
   "source": [
    "null_rows = df[df.isnull().any(axis = 1)]\n",
    "\n",
    "print('There are ' + str(len(null_rows)) + ' rows with missing values.')"
   ]
  },
  {
   "cell_type": "code",
   "execution_count": 16,
   "id": "0e39e527",
   "metadata": {
    "colab": {
     "base_uri": "https://localhost:8080/"
    },
    "executionInfo": {
     "elapsed": 222,
     "status": "ok",
     "timestamp": 1675531785448,
     "user": {
      "displayName": "Nicola Poggialini",
      "userId": "11981468023328037551"
     },
     "user_tz": -60
    },
    "id": "0e39e527",
    "outputId": "38532864-3b74-4003-ef10-e8179281807f"
   },
   "outputs": [
    {
     "data": {
      "text/plain": [
       "array([0, 1])"
      ]
     },
     "execution_count": 16,
     "metadata": {},
     "output_type": "execute_result"
    }
   ],
   "source": [
    "# Let's check the values for our target\n",
    "\n",
    "df['target'].unique()"
   ]
  },
  {
   "cell_type": "code",
   "execution_count": 17,
   "id": "b9b8cff6",
   "metadata": {
    "colab": {
     "base_uri": "https://localhost:8080/"
    },
    "executionInfo": {
     "elapsed": 2,
     "status": "ok",
     "timestamp": 1675531786424,
     "user": {
      "displayName": "Nicola Poggialini",
      "userId": "11981468023328037551"
     },
     "user_tz": -60
    },
    "id": "b9b8cff6",
    "outputId": "e4ea0220-fd12-4f13-a69b-d9b75d3ed977"
   },
   "outputs": [
    {
     "data": {
      "text/plain": [
       "ID_code     object\n",
       "target       int64\n",
       "var_0      float64\n",
       "var_1      float64\n",
       "var_2      float64\n",
       "            ...   \n",
       "var_195    float64\n",
       "var_196    float64\n",
       "var_197    float64\n",
       "var_198    float64\n",
       "var_199    float64\n",
       "Length: 202, dtype: object"
      ]
     },
     "execution_count": 17,
     "metadata": {},
     "output_type": "execute_result"
    }
   ],
   "source": [
    "# Let's see the type of the features we're dealing with\n",
    "\n",
    "df.dtypes"
   ]
  },
  {
   "cell_type": "code",
   "execution_count": 18,
   "id": "0dba68b7",
   "metadata": {
    "colab": {
     "base_uri": "https://localhost:8080/"
    },
    "executionInfo": {
     "elapsed": 5,
     "status": "ok",
     "timestamp": 1675531788122,
     "user": {
      "displayName": "Nicola Poggialini",
      "userId": "11981468023328037551"
     },
     "user_tz": -60
    },
    "id": "0dba68b7",
    "outputId": "af23962d-fd78-4121-eb61-0ab48b638cb7"
   },
   "outputs": [
    {
     "data": {
      "text/plain": [
       "ID_code    object\n",
       "target      int64\n",
       "dtype: object"
      ]
     },
     "execution_count": 18,
     "metadata": {},
     "output_type": "execute_result"
    }
   ],
   "source": [
    "# The majority of them are float64: let's confirm that just the first 2 are different\n",
    "\n",
    "df.dtypes[df.dtypes != 'float64']"
   ]
  },
  {
   "cell_type": "markdown",
   "id": "a439ea66",
   "metadata": {
    "id": "a439ea66"
   },
   "source": [
    "The dataset is composed by 200000 instances: each one is characterized by 202 features and **none of them has missing values**.\n",
    "\n",
    "Each instance represents a customer transaction, which is identified by the first feature, an ID code.\n",
    "\n",
    "The next feature is the target variable. As anticipated in the task description, we're facing a binary classification problem: the only values for our target are in fact 0 (the customer won't make the transaction) and 1 (the customer will make the transaction).\n",
    "\n",
    "Then, we have 200 anonymized numerical features (in particular, floating point numbers): these will be the predictors for the target."
   ]
  },
  {
   "cell_type": "code",
   "execution_count": 3,
   "id": "a7399b52",
   "metadata": {
    "executionInfo": {
     "elapsed": 478,
     "status": "ok",
     "timestamp": 1675531790784,
     "user": {
      "displayName": "Nicola Poggialini",
      "userId": "11981468023328037551"
     },
     "user_tz": -60
    },
    "id": "a7399b52"
   },
   "outputs": [],
   "source": [
    "# predictors\n",
    "X = df.drop(['ID_code','target'], axis = 1)\n",
    "\n",
    "# target variable\n",
    "y = df['target']"
   ]
  },
  {
   "cell_type": "code",
   "execution_count": 4,
   "id": "acb3b147",
   "metadata": {
    "colab": {
     "base_uri": "https://localhost:8080/"
    },
    "executionInfo": {
     "elapsed": 548,
     "status": "ok",
     "timestamp": 1675531792520,
     "user": {
      "displayName": "Nicola Poggialini",
      "userId": "11981468023328037551"
     },
     "user_tz": -60
    },
    "id": "acb3b147",
    "outputId": "0c41104d-94cc-48d7-edd7-9cb3f07fad29"
   },
   "outputs": [
    {
     "name": "stdout",
     "output_type": "stream",
     "text": [
      "(150000, 200) (50000, 200) (150000,) (50000,)\n"
     ]
    }
   ],
   "source": [
    "# split in train and test data\n",
    "\n",
    "X_train_val, X_test, y_train_val, y_test = train_test_split(X, y, random_state = random_state)\n",
    "print(X_train_val.shape, X_test.shape, y_train_val.shape, y_test.shape)"
   ]
  },
  {
   "cell_type": "code",
   "execution_count": 5,
   "id": "fe7627ca",
   "metadata": {
    "colab": {
     "base_uri": "https://localhost:8080/"
    },
    "executionInfo": {
     "elapsed": 577,
     "status": "ok",
     "timestamp": 1675531801870,
     "user": {
      "displayName": "Nicola Poggialini",
      "userId": "11981468023328037551"
     },
     "user_tz": -60
    },
    "id": "fe7627ca",
    "outputId": "5e132730-cb19-40a6-e503-d17abc4fa5c7"
   },
   "outputs": [
    {
     "name": "stdout",
     "output_type": "stream",
     "text": [
      "(135000, 200) (15000, 200) (135000,) (15000,)\n"
     ]
    }
   ],
   "source": [
    "# split in train and validation\n",
    "\n",
    "X_train, X_val, y_train, y_val = train_test_split(X_train_val, y_train_val, random_state = random_state, test_size = 0.1)\n",
    "print(X_train.shape, X_val.shape, y_train.shape, y_val.shape)"
   ]
  },
  {
   "cell_type": "code",
   "execution_count": 22,
   "id": "35802238",
   "metadata": {
    "colab": {
     "base_uri": "https://localhost:8080/"
    },
    "executionInfo": {
     "elapsed": 220,
     "status": "ok",
     "timestamp": 1675531813997,
     "user": {
      "displayName": "Nicola Poggialini",
      "userId": "11981468023328037551"
     },
     "user_tz": -60
    },
    "id": "35802238",
    "outputId": "06371496-4f3e-454c-cffa-de25c51272a3"
   },
   "outputs": [
    {
     "name": "stdout",
     "output_type": "stream",
     "text": [
      "Number of instances belonging to class 0: 121366 (0.8990074074074074%)\n",
      "Number of instances belonging to class 1: 13634 (0.10099259259259259%)\n"
     ]
    }
   ],
   "source": [
    "# number of instances belonging to class 0 and 1\n",
    "n_0, n_1 = np.bincount(y_train)\n",
    "\n",
    "# total number of instances\n",
    "n_tot = n_0 + n_1\n",
    "\n",
    "# percentage of instances from each class over the total\n",
    "perc_0 = n_0/n_tot\n",
    "perc_1 = n_1/n_tot\n",
    "\n",
    "print('Number of instances belonging to class 0: ' + str(n_0) + ' (' + str(perc_0) + '%' + ')' )\n",
    "print('Number of instances belonging to class 1: ' + str(n_1) + ' (' + str(perc_1) + '%' + ')' )"
   ]
  },
  {
   "cell_type": "markdown",
   "id": "92e0962c",
   "metadata": {
    "id": "92e0962c"
   },
   "source": [
    "An important aspect that we can notice is that we're facing an **imbalanced dataset**: in fact, there are far more instances belonging to class 0 (almost 90%) with respect to those belonging to class 1 (just 10%).\n",
    "\n",
    "This is clear observing the plot below that shows the number of instances belonging to each class."
   ]
  },
  {
   "cell_type": "code",
   "execution_count": 23,
   "id": "a3c3013b",
   "metadata": {
    "colab": {
     "base_uri": "https://localhost:8080/",
     "height": 296
    },
    "executionInfo": {
     "elapsed": 250,
     "status": "ok",
     "timestamp": 1675531818509,
     "user": {
      "displayName": "Nicola Poggialini",
      "userId": "11981468023328037551"
     },
     "user_tz": -60
    },
    "id": "a3c3013b",
    "outputId": "623627cd-c65f-4c59-b58d-ab095413b7bf"
   },
   "outputs": [
    {
     "data": {
      "text/plain": [
       "<matplotlib.axes._subplots.AxesSubplot at 0x7f9ed02b1070>"
      ]
     },
     "execution_count": 23,
     "metadata": {},
     "output_type": "execute_result"
    },
    {
     "data": {
      "image/png": "[encoded data removed]",
      "text/plain": [
       "<Figure size 432x288 with 1 Axes>"
      ]
     },
     "metadata": {},
     "output_type": "display_data"
    }
   ],
   "source": [
    "y_train.value_counts().plot(kind = 'bar', xlabel = 'Target value', ylabel = 'Counts')"
   ]
  },
  {
   "cell_type": "markdown",
   "id": "0e53c6dc",
   "metadata": {
    "id": "0e53c6dc"
   },
   "source": [
    "Let's now check if there are any relevant correlations (> 0.5) between the predictors."
   ]
  },
  {
   "cell_type": "code",
   "execution_count": null,
   "id": "a7f15b23",
   "metadata": {
    "id": "a7f15b23",
    "outputId": "f21cc6d6-405b-4467-f691-ccac68262cac"
   },
   "outputs": [
    {
     "data": {
      "text/plain": [
       "False"
      ]
     },
     "execution_count": 13,
     "metadata": {},
     "output_type": "execute_result"
    }
   ],
   "source": [
    "correlations = X_train.corr().abs()\n",
    "\n",
    "corr_not_self = correlations[correlations < 1] # get rid of the values of the correlation between a variable and itself\n",
    "\n",
    "corr_not_self[corr_not_self > 0.5].notna().any().any() "
   ]
  },
  {
   "cell_type": "markdown",
   "id": "9ec3b8e2",
   "metadata": {
    "id": "9ec3b8e2"
   },
   "source": [
    "We observe that **there isn't any relevant correlation** between the predictors.\n",
    "\n",
    "We notice the same thing even if we lower the threshlod to just 0.1."
   ]
  },
  {
   "cell_type": "code",
   "execution_count": null,
   "id": "0dfae688",
   "metadata": {
    "id": "0dfae688",
    "outputId": "7fa8e4d3-44ac-4110-c8aa-e5d28668f355"
   },
   "outputs": [
    {
     "data": {
      "text/plain": [
       "False"
      ]
     },
     "execution_count": 14,
     "metadata": {},
     "output_type": "execute_result"
    }
   ],
   "source": [
    "correlations = X.corr().abs()\n",
    "\n",
    "corr_not_self = correlations[correlations < 1]\n",
    "\n",
    "corr_not_self[corr_not_self > 0.1].notna().any().any() "
   ]
  },
  {
   "cell_type": "markdown",
   "id": "08afaf97",
   "metadata": {
    "id": "08afaf97"
   },
   "source": [
    "## Methods\n",
    "\n",
    "I approached the problem focusing first on the right 'configuration' of the data.\n",
    "\n",
    "As we noticed before, the data are imbalanced, so it's necessary to use sampling techniques to obtain a more similar distribution of the two classes.\n",
    "\n",
    "Moreover, we can also notice a high dimensionality, so it's useful to explore which are the relevant features for the task; an alternative could be to apply some dimensionality reduction technique.\n",
    "\n",
    "I decided to choose one model, the logistic regression, in order to evaluate the performances after applying the techniques that could solve the previously enlisted problems: the ones that will perform better are going to be used to obtain the data on which more models will be trained and tested. \n",
    "\n",
    "The choice of the logistic regression for the base model was based on these aspects:\n",
    "- The 'class_weight' parameter can be set to adjust weights inversely proportional to class frequencies in the input data: this way we can have a good baseline before applying any sampling technique;\n",
    "\n",
    "\n",
    "- It's not hard to tune: as it's reported on the sklearn documentation, the solvers suited for larger datasets are just the 'sag' and 'saga' ones. Since the 'saga' solver is compatible with more penalty option, we can just set the model to it and explore which is the best configuration for 'penalty';\n",
    "\n",
    "\n",
    "- Other models could require more time to be properly tuned, so it's better to just try them on the final dataset instead of using them in this first phase.\n",
    "\n",
    "The measure that will be used is the F1 score, since with unbalanced data the accuracy isn't reliable. In particular, I'll use the default settings of the sklearn function, which return the score for label 1: doing this, I'm focusing on the configuration that works best for the less representative class, whose instances are harder to classify."
   ]
  },
  {
   "cell_type": "code",
   "execution_count": null,
   "id": "28917d0d",
   "metadata": {
    "id": "28917d0d"
   },
   "outputs": [],
   "source": [
    "final_results = {} # the dictionary will store the results for the final summary at the end of the notebook"
   ]
  },
  {
   "cell_type": "markdown",
   "id": "e635e515",
   "metadata": {
    "id": "e635e515"
   },
   "source": [
    "### Baseline\n",
    "\n",
    "Let's start by adapting the logistic regression on the original data.\n",
    "I'm going to explore which is the best configuration for penalty using the results on the validation set (cross-validation seemed to require lots of time with this dataset).\n",
    "\n",
    "\n",
    "Before this, I'll use the Standard Scaler, which operates by removing the mean and scaling the features to unit variance."
   ]
  },
  {
   "cell_type": "code",
   "execution_count": 14,
   "id": "d69ab551",
   "metadata": {
    "id": "d69ab551"
   },
   "outputs": [],
   "source": [
    "# Scale the data\n",
    "\n",
    "scaler = StandardScaler()\n",
    "scaler.fit(X_train)\n",
    "\n",
    "X_train_scaled = scaler.transform(X_train)\n",
    "X_val_scaled = scaler.transform(X_val)"
   ]
  },
  {
   "cell_type": "code",
   "execution_count": null,
   "id": "300526f8",
   "metadata": {
    "id": "300526f8"
   },
   "outputs": [],
   "source": [
    "results = {}\n",
    "\n",
    "penalty_params = ['none', 'l1', 'l2']\n",
    "\n",
    "for penalty in penalty_params:\n",
    "    \n",
    "    logistic_reg = LogisticRegression(random_state = random_state, penalty = penalty,\n",
    "                                      class_weight = 'balanced', solver = 'saga')\n",
    "    \n",
    "    # fit model\n",
    "    logistic_reg.fit(X_train_scaled, y_train)\n",
    "    \n",
    "    # predict on training set\n",
    "    y_train_pred = logistic_reg.predict(X_train_scaled)\n",
    "    \n",
    "    # predict on validation set\n",
    "    y_val_pred = logistic_reg.predict(X_val_scaled)\n",
    "    \n",
    "    # store f1 score\n",
    "    results[penalty] = [f1_score(y_train_pred, y_train), f1_score(y_val_pred, y_val)]\n",
    "    "
   ]
  },
  {
   "cell_type": "code",
   "execution_count": null,
   "id": "95fa8e8b",
   "metadata": {
    "id": "95fa8e8b",
    "outputId": "be4afd38-728c-4ab7-acb1-340a6103dfb4"
   },
   "outputs": [
    {
     "name": "stdout",
     "output_type": "stream",
     "text": [
      "none\n",
      "F1 on train: 0.4203451479629154\n",
      "F1 on validation: 0.4202513719242344\n",
      "\n",
      "l1\n",
      "F1 on train: 0.4204325307397304\n",
      "F1 on validation: 0.4202513719242344\n",
      "\n",
      "l2\n",
      "F1 on train: 0.4203534574783538\n",
      "F1 on validation: 0.4202513719242344\n",
      "\n"
     ]
    }
   ],
   "source": [
    "for penalty in results:\n",
    "    print(penalty) \n",
    "    print('F1 on train: ' + str(results[penalty][0]))\n",
    "    print('F1 on validation: ' + str(results[penalty][1]))\n",
    "    print()"
   ]
  },
  {
   "cell_type": "markdown",
   "id": "19a8fe1b",
   "metadata": {
    "id": "19a8fe1b"
   },
   "source": [
    "We can observe that there is no real difference between these. We can go on with L2 penalty in the following tests."
   ]
  },
  {
   "cell_type": "code",
   "execution_count": null,
   "id": "2d6dd89b",
   "metadata": {
    "id": "2d6dd89b"
   },
   "outputs": [],
   "source": [
    "# store the results\n",
    "final_results['Logistic regression baseline'] = results['l2'][1]"
   ]
  },
  {
   "cell_type": "markdown",
   "id": "d96a550c",
   "metadata": {
    "id": "d96a550c"
   },
   "source": [
    "### Reduce number of features\n",
    "\n",
    "As I'll explain later, sampling methods to overcome the problem of imbalance are based on the distance between the instances. Since our data present a high dimensionality, this could have a negative impact (curse of dimensionality).\n",
    "\n",
    "So I'll start from trying to reduce the number of features: this could not only be beneficial for the sampling algorithms which will be tested later, but also it could already improve the performance achieved with the baseline model.\n",
    "\n",
    "There are two possible ways to approach this part: feature selection and dimensionality reduction.\n"
   ]
  },
  {
   "cell_type": "markdown",
   "id": "oUg-winSYBT6",
   "metadata": {
    "id": "oUg-winSYBT6"
   },
   "source": [
    "#### Feature selection\n",
    "\n",
    "Let's start with feature selection. This approach is about selecting which are the features, between the original ones, that are most relevant for our task.\n",
    "\n",
    "One simple way to do this is looking at the **correlations** between the original features. When we see two features that are highly correlated, we can just pick one between them, since they will have almost the same effect on the target variable.\n",
    "However, we've already seen that there are no relevant correlations between the predictors, so we can't rely on this.\n",
    "\n",
    "Our first try will be using the **ANOVA** statistical test, which evaluates the linear relationship between continuos predictors and a categorical target."
   ]
  },
  {
   "cell_type": "code",
   "execution_count": null,
   "id": "32154f53",
   "metadata": {
    "id": "32154f53"
   },
   "outputs": [],
   "source": [
    "n_features = range(10, 171, 20) \n",
    "# number of features: since we have 200 features, \n",
    "# I'll test anova with min 10\n",
    "# and max 170 features (since we want to reduce the number of features, there's no need to test with more)\n",
    "# with a step of 20 (to have a shorter running time)\n",
    "\n",
    "results = {}\n",
    "\n",
    "for k in n_features:\n",
    "    \n",
    "    # features selection\n",
    "    anova = SelectKBest(score_func = f_classif, k = k)\n",
    "    anova.fit(X_train_scaled, y_train)\n",
    "    \n",
    "    X_train_k_best = anova.transform(X_train_scaled)\n",
    "    X_val_k_best = anova.transform(X_val_scaled)\n",
    "    \n",
    "    # initialize model\n",
    "    logistic_reg = LogisticRegression(random_state = random_state, penalty = 'l2',\n",
    "                                      class_weight = 'balanced', solver = 'saga')\n",
    "    \n",
    "    # fit model\n",
    "    logistic_reg.fit(X_train_k_best, y_train)\n",
    "    \n",
    "    # predict on training set\n",
    "    y_train_pred = logistic_reg.predict(X_train_k_best)\n",
    "    \n",
    "    # predict on validation set\n",
    "    y_val_pred = logistic_reg.predict(X_val_k_best)\n",
    "    \n",
    "    # store f1 score\n",
    "    results[k] = [f1_score(y_train_pred, y_train), f1_score(y_val_pred, y_val)]"
   ]
  },
  {
   "cell_type": "code",
   "execution_count": null,
   "id": "71f3a471",
   "metadata": {
    "id": "71f3a471",
    "outputId": "20253239-16ff-4629-f638-a055add93b19"
   },
   "outputs": [
    {
     "name": "stdout",
     "output_type": "stream",
     "text": [
      "Number of features: 10\n",
      "F1 on train: 0.26250835917077026\n",
      "F1 on validation: 0.2578188740821322\n",
      "\n",
      "Number of features: 30\n",
      "F1 on train: 0.3195404636030907\n",
      "F1 on validation: 0.3255956017104459\n",
      "\n",
      "Number of features: 50\n",
      "F1 on train: 0.35430070809819914\n",
      "F1 on validation: 0.3608660785886127\n",
      "\n",
      "Number of features: 70\n",
      "F1 on train: 0.37867393211039985\n",
      "F1 on validation: 0.3821571238348868\n",
      "\n",
      "Number of features: 90\n",
      "F1 on train: 0.39536127775018143\n",
      "F1 on validation: 0.39480782198246794\n",
      "\n",
      "Number of features: 110\n",
      "F1 on train: 0.40676782180138926\n",
      "F1 on validation: 0.4068787618228719\n",
      "\n",
      "Number of features: 130\n",
      "F1 on train: 0.41353824495541996\n",
      "F1 on validation: 0.41288741026090003\n",
      "\n",
      "Number of features: 150\n",
      "F1 on train: 0.418491004748862\n",
      "F1 on validation: 0.4201799259128594\n",
      "\n",
      "Number of features: 170\n",
      "F1 on train: 0.4201508152710333\n",
      "F1 on validation: 0.41984056687333926\n",
      "\n"
     ]
    }
   ],
   "source": [
    "for k in results:\n",
    "    print('Number of features: ' + str(k))\n",
    "    print('F1 on train: ' + str(results[k][0]))\n",
    "    print('F1 on validation: ' + str(results[k][1]))\n",
    "    print()"
   ]
  },
  {
   "cell_type": "code",
   "execution_count": null,
   "id": "40e4301c",
   "metadata": {
    "id": "40e4301c",
    "outputId": "5c19c77b-c4b3-47bc-eecc-559c9525947c"
   },
   "outputs": [
    {
     "data": {
      "image/png": "[encoded data removed]",
      "text/plain": [
       "<Figure size 432x288 with 1 Axes>"
      ]
     },
     "metadata": {},
     "output_type": "display_data"
    }
   ],
   "source": [
    "# plot f1 on validation\n",
    "\n",
    "f1_on_validation = [results[k][1] for k in results]\n",
    "\n",
    "plt.plot(n_features, f1_on_validation)\n",
    "plt.xlabel('K - Number of features')\n",
    "plt.ylabel('F1 on validation')\n",
    "plt.title('Classification results after ANOVA')\n",
    "  \n",
    "# function to show the plot\n",
    "plt.show()"
   ]
  },
  {
   "cell_type": "markdown",
   "id": "3a215bbe",
   "metadata": {
    "id": "3a215bbe"
   },
   "source": [
    "We can observe that the performances clearly increase with with the number of features: however, with already 150 predictors the classifier achieves the same results obtained with 200; moreover, the F1 score remains almost the same with 170."
   ]
  },
  {
   "cell_type": "code",
   "execution_count": null,
   "id": "11ebdee3",
   "metadata": {
    "id": "11ebdee3"
   },
   "outputs": [],
   "source": [
    "final_results['Logistic regression with ANOVA - 150 features'] = results[150][1]"
   ]
  },
  {
   "cell_type": "markdown",
   "id": "f047dc12",
   "metadata": {
    "id": "f047dc12"
   },
   "source": [
    "Another statistical test that can be used for feature selection is **Mutual Information**: the advantage that this have with respect to ANOVA is that it works well with non-linear relationships between features and target variable."
   ]
  },
  {
   "cell_type": "code",
   "execution_count": null,
   "id": "a775a9de",
   "metadata": {
    "id": "a775a9de"
   },
   "outputs": [],
   "source": [
    "n_features = [50, 100, 130, 150, 170] # mutual info is slower wrt ANOVA: try less values for k\n",
    "results = {}\n",
    "\n",
    "for k in n_features:\n",
    "    \n",
    "    # features selection\n",
    "    mutual_info = SelectKBest(score_func = mutual_info_classif, k = k)\n",
    "    mutual_info.fit(X_train_scaled, y_train)\n",
    "    \n",
    "    X_train_k_best = mutual_info.transform(X_train_scaled)\n",
    "    X_val_k_best = mutual_info.transform(X_val_scaled)\n",
    "    \n",
    "    # initialize model\n",
    "    logistic_reg = LogisticRegression(random_state = random_state, penalty = 'l2',\n",
    "                                      class_weight = 'balanced', solver = 'saga')\n",
    "    \n",
    "    # fit model\n",
    "    logistic_reg.fit(X_train_k_best, y_train)\n",
    "    \n",
    "    # predict on training set\n",
    "    y_train_pred = logistic_reg.predict(X_train_k_best)\n",
    "    \n",
    "    # predict on validation set\n",
    "    y_val_pred = logistic_reg.predict(X_val_k_best)\n",
    "    \n",
    "    # store f1 score\n",
    "    results[k] = [f1_score(y_train_pred, y_train), f1_score(y_val_pred, y_val)]"
   ]
  },
  {
   "cell_type": "code",
   "execution_count": null,
   "id": "8c247479",
   "metadata": {
    "id": "8c247479",
    "outputId": "cbdfb2c0-429c-48df-fc84-c8c226eda793"
   },
   "outputs": [
    {
     "name": "stdout",
     "output_type": "stream",
     "text": [
      "Number of features: 50\n",
      "F1 on train: 0.34091227578475336\n",
      "F1 on validation: 0.3414634146341463\n",
      "\n",
      "Number of features: 100\n",
      "F1 on train: 0.3865698387248892\n",
      "F1 on validation: 0.3846284069747757\n",
      "\n",
      "Number of features: 130\n",
      "F1 on train: 0.3972996816386023\n",
      "F1 on validation: 0.3973260198834419\n",
      "\n",
      "Number of features: 150\n",
      "F1 on train: 0.40689427355575847\n",
      "F1 on validation: 0.402081526452732\n",
      "\n",
      "Number of features: 170\n",
      "F1 on train: 0.4128320056370007\n",
      "F1 on validation: 0.41109932838458824\n",
      "\n"
     ]
    }
   ],
   "source": [
    "for k in results:\n",
    "    print('Number of features: ' + str(k))\n",
    "    print('F1 on train: ' + str(results[k][0]))\n",
    "    print('F1 on validation: ' + str(results[k][1]))\n",
    "    print()"
   ]
  },
  {
   "cell_type": "code",
   "execution_count": null,
   "id": "6226bf09",
   "metadata": {
    "id": "6226bf09",
    "outputId": "742b7370-4756-414c-88da-4378cbbf2fc3"
   },
   "outputs": [
    {
     "data": {
      "image/png": "[encoded data removed]",
      "text/plain": [
       "<Figure size 432x288 with 1 Axes>"
      ]
     },
     "metadata": {},
     "output_type": "display_data"
    }
   ],
   "source": [
    "# plot f1 on validation\n",
    "\n",
    "f1_on_validation = [results[k][1] for k in results]\n",
    "\n",
    "plt.plot(n_features, f1_on_validation)\n",
    "plt.xlabel('K - Number of features')\n",
    "plt.ylabel('F1 on validation')\n",
    "plt.title('Classification results after Mutual Information')\n",
    "  \n",
    "# function to show the plot\n",
    "plt.show()"
   ]
  },
  {
   "cell_type": "markdown",
   "id": "1b718b5b",
   "metadata": {
    "id": "1b718b5b"
   },
   "source": [
    "The best performances are achieved with 170 features: however, the results obtained with the predictors selected with ANOVA were a bit better with respect to the ones with Mutual Information."
   ]
  },
  {
   "cell_type": "code",
   "execution_count": null,
   "id": "c517e737",
   "metadata": {
    "id": "c517e737"
   },
   "outputs": [],
   "source": [
    "final_results['Logistic regression with Mutual Info - 170 features'] = results[170][1]"
   ]
  },
  {
   "cell_type": "markdown",
   "id": "ca10d0b5",
   "metadata": {
    "id": "ca10d0b5"
   },
   "source": [
    "The last technique that I'm going to try for feature selection is the one based on **Decision Trees**, in particular **Random Forests**. Tree based models calculate **feature importance** in order to keep the best performing features close to the root of the tree.\n",
    "We can use this feature importance to select the features to keep and the ones to drop."
   ]
  },
  {
   "cell_type": "code",
   "execution_count": null,
   "id": "bd2cf149",
   "metadata": {
    "id": "bd2cf149",
    "outputId": "c2599a8b-4b8e-4d3f-9b90-42a001729609"
   },
   "outputs": [
    {
     "data": {
      "text/html": [
       "<style>#sk-container-id-1 {color: black;background-color: white;}#sk-container-id-1 pre{padding: 0;}#sk-container-id-1 div.sk-toggleable {background-color: white;}#sk-container-id-1 label.sk-toggleable__label {cursor: pointer;display: block;width: 100%;margin-bottom: 0;padding: 0.3em;box-sizing: border-box;text-align: center;}#sk-container-id-1 label.sk-toggleable__label-arrow:before {content: \"▸\";float: left;margin-right: 0.25em;color: #696969;}#sk-container-id-1 label.sk-toggleable__label-arrow:hover:before {color: black;}#sk-container-id-1 div.sk-estimator:hover label.sk-toggleable__label-arrow:before {color: black;}#sk-container-id-1 div.sk-toggleable__content {max-height: 0;max-width: 0;overflow: hidden;text-align: left;background-color: #f0f8ff;}#sk-container-id-1 div.sk-toggleable__content pre {margin: 0.2em;color: black;border-radius: 0.25em;background-color: #f0f8ff;}#sk-container-id-1 input.sk-toggleable__control:checked~div.sk-toggleable__content {max-height: 200px;max-width: 100%;overflow: auto;}#sk-container-id-1 input.sk-toggleable__control:checked~label.sk-toggleable__label-arrow:before {content: \"▾\";}#sk-container-id-1 div.sk-estimator input.sk-toggleable__control:checked~label.sk-toggleable__label {background-color: #d4ebff;}#sk-container-id-1 div.sk-label input.sk-toggleable__control:checked~label.sk-toggleable__label {background-color: #d4ebff;}#sk-container-id-1 input.sk-hidden--visually {border: 0;clip: rect(1px 1px 1px 1px);clip: rect(1px, 1px, 1px, 1px);height: 1px;margin: -1px;overflow: hidden;padding: 0;position: absolute;width: 1px;}#sk-container-id-1 div.sk-estimator {font-family: monospace;background-color: #f0f8ff;border: 1px dotted black;border-radius: 0.25em;box-sizing: border-box;margin-bottom: 0.5em;}#sk-container-id-1 div.sk-estimator:hover {background-color: #d4ebff;}#sk-container-id-1 div.sk-parallel-item::after {content: \"\";width: 100%;border-bottom: 1px solid gray;flex-grow: 1;}#sk-container-id-1 div.sk-label:hover label.sk-toggleable__label {background-color: #d4ebff;}#sk-container-id-1 div.sk-serial::before {content: \"\";position: absolute;border-left: 1px solid gray;box-sizing: border-box;top: 0;bottom: 0;left: 50%;z-index: 0;}#sk-container-id-1 div.sk-serial {display: flex;flex-direction: column;align-items: center;background-color: white;padding-right: 0.2em;padding-left: 0.2em;position: relative;}#sk-container-id-1 div.sk-item {position: relative;z-index: 1;}#sk-container-id-1 div.sk-parallel {display: flex;align-items: stretch;justify-content: center;background-color: white;position: relative;}#sk-container-id-1 div.sk-item::before, #sk-container-id-1 div.sk-parallel-item::before {content: \"\";position: absolute;border-left: 1px solid gray;box-sizing: border-box;top: 0;bottom: 0;left: 50%;z-index: -1;}#sk-container-id-1 div.sk-parallel-item {display: flex;flex-direction: column;z-index: 1;position: relative;background-color: white;}#sk-container-id-1 div.sk-parallel-item:first-child::after {align-self: flex-end;width: 50%;}#sk-container-id-1 div.sk-parallel-item:last-child::after {align-self: flex-start;width: 50%;}#sk-container-id-1 div.sk-parallel-item:only-child::after {width: 0;}#sk-container-id-1 div.sk-dashed-wrapped {border: 1px dashed gray;margin: 0 0.4em 0.5em 0.4em;box-sizing: border-box;padding-bottom: 0.4em;background-color: white;}#sk-container-id-1 div.sk-label label {font-family: monospace;font-weight: bold;display: inline-block;line-height: 1.2em;}#sk-container-id-1 div.sk-label-container {text-align: center;}#sk-container-id-1 div.sk-container {/* jupyter's `normalize.less` sets `[hidden] { display: none; }` but bootstrap.min.css set `[hidden] { display: none !important; }` so we also need the `!important` here to be able to override the default hidden behavior on the sphinx rendered scikit-learn.org. See: https://github.com/scikit-learn/scikit-learn/issues/21755 */display: inline-block !important;position: relative;}#sk-container-id-1 div.sk-text-repr-fallback {display: none;}</style><div id=\"sk-container-id-1\" class=\"sk-top-container\"><div class=\"sk-text-repr-fallback\"><pre>SelectFromModel(estimator=RandomForestClassifier(random_state=1))</pre><b>In a Jupyter environment, please rerun this cell to show the HTML representation or trust the notebook. <br />On GitHub, the HTML representation is unable to render, please try loading this page with nbviewer.org.</b></div><div class=\"sk-container\" hidden><div class=\"sk-item sk-dashed-wrapped\"><div class=\"sk-label-container\"><div class=\"sk-label sk-toggleable\"><input class=\"sk-toggleable__control sk-hidden--visually\" id=\"sk-estimator-id-1\" type=\"checkbox\" ><label for=\"sk-estimator-id-1\" class=\"sk-toggleable__label sk-toggleable__label-arrow\">SelectFromModel</label><div class=\"sk-toggleable__content\"><pre>SelectFromModel(estimator=RandomForestClassifier(random_state=1))</pre></div></div></div><div class=\"sk-parallel\"><div class=\"sk-parallel-item\"><div class=\"sk-item\"><div class=\"sk-label-container\"><div class=\"sk-label sk-toggleable\"><input class=\"sk-toggleable__control sk-hidden--visually\" id=\"sk-estimator-id-2\" type=\"checkbox\" ><label for=\"sk-estimator-id-2\" class=\"sk-toggleable__label sk-toggleable__label-arrow\">estimator: RandomForestClassifier</label><div class=\"sk-toggleable__content\"><pre>RandomForestClassifier(random_state=1)</pre></div></div></div><div class=\"sk-serial\"><div class=\"sk-item\"><div class=\"sk-estimator sk-toggleable\"><input class=\"sk-toggleable__control sk-hidden--visually\" id=\"sk-estimator-id-3\" type=\"checkbox\" ><label for=\"sk-estimator-id-3\" class=\"sk-toggleable__label sk-toggleable__label-arrow\">RandomForestClassifier</label><div class=\"sk-toggleable__content\"><pre>RandomForestClassifier(random_state=1)</pre></div></div></div></div></div></div></div></div></div></div>"
      ],
      "text/plain": [
       "SelectFromModel(estimator=RandomForestClassifier(random_state=1))"
      ]
     },
     "execution_count": 28,
     "metadata": {},
     "output_type": "execute_result"
    }
   ],
   "source": [
    "forest_selector = SelectFromModel(RandomForestClassifier(random_state = random_state))\n",
    "forest_selector.fit(X_train_scaled, y_train)"
   ]
  },
  {
   "cell_type": "code",
   "execution_count": null,
   "id": "039c9eee",
   "metadata": {
    "id": "039c9eee",
    "outputId": "f75fb87a-7d99-475c-a47f-bd228fbb9373"
   },
   "outputs": [
    {
     "name": "stdout",
     "output_type": "stream",
     "text": [
      "Number of features selected: 71\n"
     ]
    }
   ],
   "source": [
    "# convert to df to select columns easily\n",
    "X_train_scaled_df = pd.DataFrame(X_train_scaled, columns = X_train.columns)\n",
    "X_val_scaled_df = pd.DataFrame(X_val_scaled, columns = X_val.columns)\n",
    "\n",
    "selected_feat = X_train_scaled_df.columns[(forest_selector.get_support())]\n",
    "\n",
    "# sel.get_support() is a 1D array of boolean values having dimension equal to the number of features:\n",
    "# TRUE is the value assigned to the features to keep;\n",
    "# FALSE is the value assigned to the features to drop.\n",
    "\n",
    "print('Number of features selected: ' + str(len(selected_feat)))"
   ]
  },
  {
   "cell_type": "code",
   "execution_count": null,
   "id": "b7e09299",
   "metadata": {
    "id": "b7e09299"
   },
   "outputs": [],
   "source": [
    "# predictors after feature selection (fs)\n",
    "\n",
    "X_train_scaled_fs = X_train_scaled_df[selected_feat]\n",
    "X_val_scaled_fs = X_val_scaled_df[selected_feat]"
   ]
  },
  {
   "cell_type": "code",
   "execution_count": null,
   "id": "a3cb5d8c",
   "metadata": {
    "id": "a3cb5d8c"
   },
   "outputs": [],
   "source": [
    "# classification with logistic regression using the selected features\n",
    "\n",
    "# initialize model\n",
    "logistic_reg = LogisticRegression(random_state = random_state, penalty = 'l2',\n",
    "                                      class_weight = 'balanced', solver = 'saga')\n",
    "    \n",
    "# fit model\n",
    "logistic_reg.fit(X_train_scaled_fs, y_train)\n",
    "\n",
    "# predict on training set\n",
    "y_train_pred = logistic_reg.predict(X_train_scaled_fs)\n",
    "\n",
    "# predict on validation set\n",
    "y_val_pred = logistic_reg.predict(X_val_scaled_fs)"
   ]
  },
  {
   "cell_type": "code",
   "execution_count": null,
   "id": "b6a7c886",
   "metadata": {
    "id": "b6a7c886",
    "outputId": "242c07c3-25fb-4cd9-ad52-bd37192340d0"
   },
   "outputs": [
    {
     "name": "stdout",
     "output_type": "stream",
     "text": [
      "F1 on train: 0.37690635855330373\n",
      "F1 on train: 0.37758307158207965\n"
     ]
    }
   ],
   "source": [
    "# f1 score\n",
    "print('F1 on train: ' + str(f1_score(y_train_pred, y_train)))\n",
    "print('F1 on train: ' + str(f1_score(y_val_pred, y_val)))"
   ]
  },
  {
   "cell_type": "code",
   "execution_count": null,
   "id": "b0bab871",
   "metadata": {
    "id": "b0bab871"
   },
   "outputs": [],
   "source": [
    "final_results['Logistic regression with Random Forests Feat. Sel.'] = f1_score(y_val_pred, y_val)"
   ]
  },
  {
   "cell_type": "markdown",
   "id": "56e017b8",
   "metadata": {
    "id": "56e017b8"
   },
   "source": [
    "We can conclude that ANOVA provide the selection of features that perform best in the classification task on the dataset."
   ]
  },
  {
   "cell_type": "markdown",
   "id": "4ebcfa97",
   "metadata": {
    "id": "4ebcfa97"
   },
   "source": [
    "#### Dimensionality reduction\n",
    "\n",
    "I'll try now to reduce the number of features with dimensionality reduction: with respect to feature selection, dimensionality reduction **transforms** the original features into new ones.\n",
    "\n",
    "The method that I'm going to use is **Principal Component Analysis (PCA)**. PCA creates linear combinations from the original features: these combinations are done in such a way that the new variables (i.e., principal components) are uncorrelated and most of the information within the initial variables is squeezed or compressed into the first components (they account for most of the variance of the dataset). These will be the ones that we're going to select."
   ]
  },
  {
   "cell_type": "code",
   "execution_count": null,
   "id": "8ebebfc8",
   "metadata": {
    "id": "8ebebfc8",
    "outputId": "79458e85-12bd-4a68-b7b8-5f759d2e74bb"
   },
   "outputs": [
    {
     "data": {
      "text/html": [
       "<style>#sk-container-id-2 {color: black;background-color: white;}#sk-container-id-2 pre{padding: 0;}#sk-container-id-2 div.sk-toggleable {background-color: white;}#sk-container-id-2 label.sk-toggleable__label {cursor: pointer;display: block;width: 100%;margin-bottom: 0;padding: 0.3em;box-sizing: border-box;text-align: center;}#sk-container-id-2 label.sk-toggleable__label-arrow:before {content: \"▸\";float: left;margin-right: 0.25em;color: #696969;}#sk-container-id-2 label.sk-toggleable__label-arrow:hover:before {color: black;}#sk-container-id-2 div.sk-estimator:hover label.sk-toggleable__label-arrow:before {color: black;}#sk-container-id-2 div.sk-toggleable__content {max-height: 0;max-width: 0;overflow: hidden;text-align: left;background-color: #f0f8ff;}#sk-container-id-2 div.sk-toggleable__content pre {margin: 0.2em;color: black;border-radius: 0.25em;background-color: #f0f8ff;}#sk-container-id-2 input.sk-toggleable__control:checked~div.sk-toggleable__content {max-height: 200px;max-width: 100%;overflow: auto;}#sk-container-id-2 input.sk-toggleable__control:checked~label.sk-toggleable__label-arrow:before {content: \"▾\";}#sk-container-id-2 div.sk-estimator input.sk-toggleable__control:checked~label.sk-toggleable__label {background-color: #d4ebff;}#sk-container-id-2 div.sk-label input.sk-toggleable__control:checked~label.sk-toggleable__label {background-color: #d4ebff;}#sk-container-id-2 input.sk-hidden--visually {border: 0;clip: rect(1px 1px 1px 1px);clip: rect(1px, 1px, 1px, 1px);height: 1px;margin: -1px;overflow: hidden;padding: 0;position: absolute;width: 1px;}#sk-container-id-2 div.sk-estimator {font-family: monospace;background-color: #f0f8ff;border: 1px dotted black;border-radius: 0.25em;box-sizing: border-box;margin-bottom: 0.5em;}#sk-container-id-2 div.sk-estimator:hover {background-color: #d4ebff;}#sk-container-id-2 div.sk-parallel-item::after {content: \"\";width: 100%;border-bottom: 1px solid gray;flex-grow: 1;}#sk-container-id-2 div.sk-label:hover label.sk-toggleable__label {background-color: #d4ebff;}#sk-container-id-2 div.sk-serial::before {content: \"\";position: absolute;border-left: 1px solid gray;box-sizing: border-box;top: 0;bottom: 0;left: 50%;z-index: 0;}#sk-container-id-2 div.sk-serial {display: flex;flex-direction: column;align-items: center;background-color: white;padding-right: 0.2em;padding-left: 0.2em;position: relative;}#sk-container-id-2 div.sk-item {position: relative;z-index: 1;}#sk-container-id-2 div.sk-parallel {display: flex;align-items: stretch;justify-content: center;background-color: white;position: relative;}#sk-container-id-2 div.sk-item::before, #sk-container-id-2 div.sk-parallel-item::before {content: \"\";position: absolute;border-left: 1px solid gray;box-sizing: border-box;top: 0;bottom: 0;left: 50%;z-index: -1;}#sk-container-id-2 div.sk-parallel-item {display: flex;flex-direction: column;z-index: 1;position: relative;background-color: white;}#sk-container-id-2 div.sk-parallel-item:first-child::after {align-self: flex-end;width: 50%;}#sk-container-id-2 div.sk-parallel-item:last-child::after {align-self: flex-start;width: 50%;}#sk-container-id-2 div.sk-parallel-item:only-child::after {width: 0;}#sk-container-id-2 div.sk-dashed-wrapped {border: 1px dashed gray;margin: 0 0.4em 0.5em 0.4em;box-sizing: border-box;padding-bottom: 0.4em;background-color: white;}#sk-container-id-2 div.sk-label label {font-family: monospace;font-weight: bold;display: inline-block;line-height: 1.2em;}#sk-container-id-2 div.sk-label-container {text-align: center;}#sk-container-id-2 div.sk-container {/* jupyter's `normalize.less` sets `[hidden] { display: none; }` but bootstrap.min.css set `[hidden] { display: none !important; }` so we also need the `!important` here to be able to override the default hidden behavior on the sphinx rendered scikit-learn.org. See: https://github.com/scikit-learn/scikit-learn/issues/21755 */display: inline-block !important;position: relative;}#sk-container-id-2 div.sk-text-repr-fallback {display: none;}</style><div id=\"sk-container-id-2\" class=\"sk-top-container\"><div class=\"sk-text-repr-fallback\"><pre>PCA(n_components=0.95, random_state=1)</pre><b>In a Jupyter environment, please rerun this cell to show the HTML representation or trust the notebook. <br />On GitHub, the HTML representation is unable to render, please try loading this page with nbviewer.org.</b></div><div class=\"sk-container\" hidden><div class=\"sk-item\"><div class=\"sk-estimator sk-toggleable\"><input class=\"sk-toggleable__control sk-hidden--visually\" id=\"sk-estimator-id-4\" type=\"checkbox\" checked><label for=\"sk-estimator-id-4\" class=\"sk-toggleable__label sk-toggleable__label-arrow\">PCA</label><div class=\"sk-toggleable__content\"><pre>PCA(n_components=0.95, random_state=1)</pre></div></div></div></div></div>"
      ],
      "text/plain": [
       "PCA(n_components=0.95, random_state=1)"
      ]
     },
     "execution_count": 34,
     "metadata": {},
     "output_type": "execute_result"
    }
   ],
   "source": [
    "# initialize PCA with 0.95 as the amount of variance that needs to be explained\n",
    "pca = PCA(n_components = 0.95, random_state = random_state)\n",
    "\n",
    "# fit on data\n",
    "pca.fit(X_train_scaled)"
   ]
  },
  {
   "cell_type": "code",
   "execution_count": null,
   "id": "043e440e",
   "metadata": {
    "id": "043e440e",
    "outputId": "f572ecd3-135e-4e9d-f242-94157aedd1e3"
   },
   "outputs": [
    {
     "name": "stdout",
     "output_type": "stream",
     "text": [
      "Number of features after PCA with 0.95: 190\n"
     ]
    }
   ],
   "source": [
    "# reduced data\n",
    "X_train_scaled_reduced = pca.transform(X_train_scaled)\n",
    "X_val_scaled_reduced = pca.transform(X_val_scaled)\n",
    "\n",
    "print('Number of features after PCA with 0.95: ' + str(X_train_scaled_reduced.shape[1]))"
   ]
  },
  {
   "cell_type": "code",
   "execution_count": null,
   "id": "202ed84f",
   "metadata": {
    "id": "202ed84f",
    "outputId": "9d23aef1-acac-4827-9020-0dbf6df7d186"
   },
   "outputs": [
    {
     "data": {
      "image/png": "[encoded data removed]",
      "text/plain": [
       "<Figure size 432x288 with 1 Axes>"
      ]
     },
     "metadata": {},
     "output_type": "display_data"
    }
   ],
   "source": [
    "# Percentage of variance explained by each of the selected components\n",
    "explained_var_pca = pca.explained_variance_ratio_\n",
    "\n",
    "# plot\n",
    "plt.bar(range(0,len(explained_var_pca)), explained_var_pca, alpha = 0.5, align='center')\n",
    "\n",
    "plt.ylabel('Explained variance ratio')\n",
    "plt.xlabel('Principal component index')\n",
    "plt.title('Percentage of variance explained by each component')\n",
    "plt.show()"
   ]
  },
  {
   "cell_type": "markdown",
   "id": "0961dba6",
   "metadata": {
    "id": "0961dba6"
   },
   "source": [
    "The number of features after PCA still remains pretty high. In fact, we can see that in the graph that the percentage of variance explained by each component is pretty low."
   ]
  },
  {
   "cell_type": "code",
   "execution_count": null,
   "id": "893d27f4",
   "metadata": {
    "id": "893d27f4"
   },
   "outputs": [],
   "source": [
    "# classification with logistic regression using the reduced dataset\n",
    "\n",
    "# initialize model\n",
    "logistic_reg = LogisticRegression(random_state = random_state, penalty = 'l2',\n",
    "                                      class_weight = 'balanced', solver = 'saga')\n",
    "    \n",
    "# fit model\n",
    "logistic_reg.fit(X_train_scaled_reduced, y_train)\n",
    "\n",
    "# predict on training set\n",
    "y_train_pred = logistic_reg.predict(X_train_scaled_reduced)\n",
    "\n",
    "# predict on validation set\n",
    "y_val_pred = logistic_reg.predict(X_val_scaled_reduced)"
   ]
  },
  {
   "cell_type": "code",
   "execution_count": null,
   "id": "2fbd08a3",
   "metadata": {
    "id": "2fbd08a3",
    "outputId": "ce1d6420-9404-46de-9599-c13b0366427e"
   },
   "outputs": [
    {
     "name": "stdout",
     "output_type": "stream",
     "text": [
      "F1 on train: 0.4199668010433958\n",
      "F1 on train: 0.4206798866855525\n"
     ]
    }
   ],
   "source": [
    "# f1 score\n",
    "print('F1 on train: ' + str(f1_score(y_train_pred, y_train)))\n",
    "print('F1 on train: ' + str(f1_score(y_val_pred, y_val)))"
   ]
  },
  {
   "cell_type": "code",
   "execution_count": null,
   "id": "acf2ec80",
   "metadata": {
    "id": "acf2ec80"
   },
   "outputs": [],
   "source": [
    "final_results['Logistic Regression with PCA - 0.95'] = f1_score(y_val_pred, y_val)"
   ]
  },
  {
   "cell_type": "markdown",
   "id": "92a3060c",
   "metadata": {
    "id": "92a3060c"
   },
   "source": [
    "Let's try also with 0.90 as the percentage of exmplained variance."
   ]
  },
  {
   "cell_type": "code",
   "execution_count": null,
   "id": "82649020",
   "metadata": {
    "id": "82649020",
    "outputId": "f7437f0c-f1d7-4178-85d9-71c52a5d114a"
   },
   "outputs": [
    {
     "name": "stdout",
     "output_type": "stream",
     "text": [
      "Number of features after PCA with 0.90: 179\n"
     ]
    },
    {
     "data": {
      "image/png": "[encoded data removed]",
      "text/plain": [
       "<Figure size 432x288 with 1 Axes>"
      ]
     },
     "metadata": {},
     "output_type": "display_data"
    }
   ],
   "source": [
    "pca = PCA(n_components = 0.90, random_state = random_state)\n",
    "\n",
    "# fit on data\n",
    "pca.fit(X_train_scaled)\n",
    "\n",
    "# reduced data\n",
    "X_train_scaled_reduced = pca.transform(X_train_scaled)\n",
    "X_val_scaled_reduced = pca.transform(X_val_scaled)\n",
    "\n",
    "print('Number of features after PCA with 0.90: ' + str(X_train_scaled_reduced.shape[1]))\n",
    "\n",
    "# Percentage of variance explained by each of the selected components\n",
    "explained_var_pca = pca.explained_variance_ratio_\n",
    "\n",
    "# plot\n",
    "plt.bar(range(0,len(explained_var_pca)), explained_var_pca, alpha = 0.5, align='center')\n",
    "\n",
    "plt.ylabel('Explained variance ratio')\n",
    "plt.xlabel('Principal component index')\n",
    "plt.title('Percentage of variance explained by each component')\n",
    "plt.show()"
   ]
  },
  {
   "cell_type": "markdown",
   "id": "8fa9f6df",
   "metadata": {
    "id": "8fa9f6df"
   },
   "source": [
    "The number of features doesn't change much."
   ]
  },
  {
   "cell_type": "code",
   "execution_count": null,
   "id": "b2542e2c",
   "metadata": {
    "id": "b2542e2c",
    "outputId": "8d7ac4da-9000-47c2-dc2e-3f8c19b6d3ab"
   },
   "outputs": [
    {
     "name": "stdout",
     "output_type": "stream",
     "text": [
      "F1 on train: 0.41982081540829613\n",
      "F1 on train: 0.4201204392490258\n"
     ]
    }
   ],
   "source": [
    "# classification with logistic regression using the reduced dataset\n",
    "\n",
    "# initialize model\n",
    "logistic_reg = LogisticRegression(random_state = random_state, penalty = 'l2',\n",
    "                                      class_weight = 'balanced', solver = 'saga')\n",
    "    \n",
    "# fit model\n",
    "logistic_reg.fit(X_train_scaled_reduced, y_train)\n",
    "\n",
    "# predict on training set\n",
    "y_train_pred = logistic_reg.predict(X_train_scaled_reduced)\n",
    "\n",
    "# predict on validation set\n",
    "y_val_pred = logistic_reg.predict(X_val_scaled_reduced)\n",
    "\n",
    "# f1 score\n",
    "print('F1 on train: ' + str(f1_score(y_train_pred, y_train)))\n",
    "print('F1 on train: ' + str(f1_score(y_val_pred, y_val)))"
   ]
  },
  {
   "cell_type": "markdown",
   "id": "b0e63f2a",
   "metadata": {
    "id": "b0e63f2a"
   },
   "source": [
    "With fewer features the results get slightly better and meet the best performance obtained previously with other methods."
   ]
  },
  {
   "cell_type": "code",
   "execution_count": null,
   "id": "ee22f831",
   "metadata": {
    "id": "ee22f831"
   },
   "outputs": [],
   "source": [
    "final_results['Logistic Regression with PCA - 0.90'] = f1_score(y_val_pred, y_val)"
   ]
  },
  {
   "cell_type": "markdown",
   "id": "3510bafa",
   "metadata": {
    "id": "3510bafa"
   },
   "source": [
    "#### Reduce number of features - Conclusion\n",
    "\n",
    "In this section we have observed that, using a subset of features, we can achieve the same performance obtained with all the features: in particular, this happend with PCA and ANOVA.\n",
    "\n",
    "Although, in the case of PCA, we don't have a great reduction in the number of predictors (179 vs the original 200). On the other hand, the situation is a bit better when using ANOVA, that allows us to select 150 features, so 50 less with respect to the initial ones."
   ]
  },
  {
   "cell_type": "markdown",
   "id": "6358d741",
   "metadata": {
    "id": "6358d741"
   },
   "source": [
    "### Sampling algorithms for unbalanced data\n",
    "\n",
    "A common strategy to tackle the problem of class imbalance is trying to restore a more even distrubution between the classes. For this purpose, we can use **sampling algorithms**. We can divide them in two categories: **undersampling** and **oversampling**.\n",
    "\n",
    "- With undersampling, we delete instances from the over-represented class;\n",
    "\n",
    "- With oversampling, we add copies of instances from the under-represented class.\n",
    "\n",
    "Let's start with undersampling, for which I'm going to try the **Near Miss** algorithm."
   ]
  },
  {
   "cell_type": "markdown",
   "id": "E9sUdf8EYKij",
   "metadata": {
    "id": "E9sUdf8EYKij"
   },
   "source": [
    "#### Undersampling - Near Miss\n",
    "\n",
    "Near Miss belongs to a family of methods that choose which examples from the majority class to keep. In particular, it selects examples based on the distance of majority class examples to minority class examples. There are three versions of the algorithm: I'm going to use the first, which is the default one in the imbalanced-learn function.\n",
    "\n",
    "- NearMiss-1 selects examples from the majority class that have the smallest average distance to the three closest examples from the minority class\n",
    "\n",
    "The distance used is the Euclidean distance."
   ]
  },
  {
   "cell_type": "code",
   "execution_count": null,
   "id": "bfcf952d",
   "metadata": {
    "id": "bfcf952d",
    "outputId": "59b7cd50-6e7c-4b04-a9e4-cf979b6b0a32"
   },
   "outputs": [
    {
     "name": "stdout",
     "output_type": "stream",
     "text": [
      "Before Undersampling, counts of label '1': 13634\n",
      "Before Undersampling, counts of label '0': 121366 \n",
      "\n",
      "After Undersampling, the shape of train_X: (27268, 200)\n",
      "After Undersampling, the shape of train_y: (27268,) \n",
      "\n",
      "After Undersampling, counts of label '1': 13634\n",
      "After Undersampling, counts of label '0': 13634 \n",
      "\n",
      "F1 on train: 0.7574728762270277\n",
      "F1 on val: 0.42921180425849836\n"
     ]
    }
   ],
   "source": [
    "# undersamplig with Near Miss\n",
    "\n",
    "print(\"Before Undersampling, counts of label '1': {}\".format(sum(y_train == 1)))\n",
    "print(\"Before Undersampling, counts of label '0': {} \\n\".format(sum(y_train == 0)))\n",
    "\n",
    "\n",
    "# initialize near miss from imbalanced-learn library\n",
    "near_miss = NearMiss()\n",
    "  \n",
    "X_train_miss, y_train_miss = near_miss.fit_resample(X_train_scaled, y_train.ravel())\n",
    "  \n",
    "print('After Undersampling, the shape of train_X: {}'.format(X_train_miss.shape))\n",
    "print('After Undersampling, the shape of train_y: {} \\n'.format(y_train_miss.shape))\n",
    "  \n",
    "print(\"After Undersampling, counts of label '1': {}\".format(sum(y_train_miss == 1)))\n",
    "print(\"After Undersampling, counts of label '0': {} \\n\".format(sum(y_train_miss == 0)))\n",
    "\n",
    "# initialize model\n",
    "logistic_reg = LogisticRegression(random_state = random_state, penalty = 'l2',\n",
    "                                  class_weight = 'balanced', solver = 'saga')\n",
    "\n",
    "logistic_reg.fit(X_train_miss, y_train_miss)\n",
    "\n",
    "y_train_pred = logistic_reg.predict(X_train_miss)\n",
    "print('F1 on train: ' + str(f1_score(y_train_pred, y_train_miss)))\n",
    "\n",
    "\n",
    "y_val_pred = logistic_reg.predict(X_val_scaled)\n",
    "print('F1 on val: ' + str(f1_score(y_val_pred, y_val)))"
   ]
  },
  {
   "cell_type": "markdown",
   "id": "4225702b",
   "metadata": {
    "id": "4225702b"
   },
   "source": [
    "Using the data after undersampling, we achieve the best results obtained so far on the validation set."
   ]
  },
  {
   "cell_type": "code",
   "execution_count": null,
   "id": "9b975c9c",
   "metadata": {
    "id": "9b975c9c"
   },
   "outputs": [],
   "source": [
    "final_results['Logistic regression with Near Miss'] = f1_score(y_val_pred, y_val)"
   ]
  },
  {
   "cell_type": "markdown",
   "id": "0938c40e",
   "metadata": {
    "id": "0938c40e"
   },
   "source": [
    "#### Oversampling - SMOTE\n",
    "\n",
    "For oversampling, I'll try the **SMOTE** algorithm.\n",
    "It consists of synthesizing elements for the minority class, based on those that already exist. It works randomly picking a point from the minority class and computing the k-nearest neighbors for this point. The synthetic points are added between the chosen point and its neighbours."
   ]
  },
  {
   "cell_type": "code",
   "execution_count": null,
   "id": "08c8ed1a",
   "metadata": {
    "id": "08c8ed1a",
    "outputId": "13e95aac-742e-4797-98c0-f0583d6c4944"
   },
   "outputs": [
    {
     "name": "stdout",
     "output_type": "stream",
     "text": [
      "Before OverSampling, counts of label '1': 13634\n",
      "Before OverSampling, counts of label '0': 121366 \n",
      "\n",
      "After OverSampling, the shape of train_X: (242732, 200)\n",
      "After OverSampling, the shape of train_y: (242732,) \n",
      "\n",
      "After OverSampling, counts of label '1': 121366\n",
      "After OverSampling, counts of label '0': 121366 \n",
      "\n",
      "F1 on train: 0.8037250510909604\n",
      "F1 on val: 0.42231947483588617\n"
     ]
    }
   ],
   "source": [
    "# oversampling with SMOTE\n",
    "\n",
    "print(\"Before OverSampling, counts of label '1': {}\".format(sum(y_train == 1)))\n",
    "print(\"Before OverSampling, counts of label '0': {} \\n\".format(sum(y_train == 0)))\n",
    "\n",
    "# initialize smote from imbalanced-learn library\n",
    "smote = SMOTE(random_state = random_state)\n",
    "\n",
    "X_train_sm, y_train_sm = smote.fit_resample(X_train_scaled, y_train.ravel())\n",
    "  \n",
    "print('After OverSampling, the shape of train_X: {}'.format(X_train_sm.shape))\n",
    "print('After OverSampling, the shape of train_y: {} \\n'.format(y_train_sm.shape))\n",
    "  \n",
    "print(\"After OverSampling, counts of label '1': {}\".format(sum(y_train_sm == 1)))\n",
    "print(\"After OverSampling, counts of label '0': {} \\n\".format(sum(y_train_sm == 0)))\n",
    "\n",
    "# initialize model\n",
    "logistic_reg = LogisticRegression(random_state = random_state, penalty = 'l2',\n",
    "                                  class_weight = 'balanced', solver = 'saga')\n",
    "\n",
    "logistic_reg.fit(X_train_sm, y_train_sm)\n",
    "\n",
    "y_train_pred = logistic_reg.predict(X_train_sm)\n",
    "print('F1 on train: ' + str(f1_score(y_train_pred, y_train_sm)))\n",
    "\n",
    "y_val_pred = logistic_reg.predict(X_val_scaled)\n",
    "print('F1 on val: ' + str(f1_score(y_val_pred, y_val)))"
   ]
  },
  {
   "cell_type": "markdown",
   "id": "db29dbbf",
   "metadata": {
    "id": "db29dbbf"
   },
   "source": [
    "After oversampling, the results are a bit worse than after undersampling: still, we achieve a better result with respect to the ones obtained before the sampling algorithms."
   ]
  },
  {
   "cell_type": "code",
   "execution_count": null,
   "id": "3460f5f3",
   "metadata": {
    "id": "3460f5f3"
   },
   "outputs": [],
   "source": [
    "final_results['Logistic regression with SMOTE'] = f1_score(y_val_pred, y_val)"
   ]
  },
  {
   "cell_type": "markdown",
   "id": "00034def",
   "metadata": {
    "id": "00034def"
   },
   "source": [
    "#### Combination of undersampling and oversampling\n",
    "\n",
    "Let's try also a combination of under and oversampling. In particular, we'll use SMOTETomek, which consists of over-sampling using SMOTE and cleaning using Tomek links. \n",
    "\n",
    "Tomek links are pairs of very close instances, but of opposite classes. Removing the instances of the majority class of each pair increases the space between the two classes, facilitating the classification process.\n",
    "(I've used Near Miss instead of Tomek links in the undersample part because Tomek Links aren't very effective alone https://machinelearningmastery.com/undersampling-algorithms-for-imbalanced-classification/)"
   ]
  },
  {
   "cell_type": "code",
   "execution_count": null,
   "id": "8ccf57f7",
   "metadata": {
    "id": "8ccf57f7",
    "outputId": "184b95e1-e46c-4f2a-a865-fad750f5c06e"
   },
   "outputs": [
    {
     "name": "stdout",
     "output_type": "stream",
     "text": [
      "Before Undersampling, counts of label '1': 13634\n",
      "Before Undersampling, counts of label '0': 121366 \n",
      "\n",
      "After Undersampling, the shape of train_X: (242732, 200)\n",
      "After Undersampling, the shape of train_y: (242732,) \n",
      "\n",
      "After Undersampling, counts of label '1': 121366\n",
      "After Undersampling, counts of label '0': 121366\n"
     ]
    }
   ],
   "source": [
    "# sampling combination\n",
    "\n",
    "print(\"Before Undersampling, counts of label '1': {}\".format(sum(y_train == 1)))\n",
    "print(\"Before Undersampling, counts of label '0': {} \\n\".format(sum(y_train == 0)))\n",
    "  \n",
    "# initialize smote from imbalanced-learn library    \n",
    "smote_tom = SMOTETomek(random_state = random_state)\n",
    "\n",
    "X_train_st, y_train_st = smote_tom.fit_resample(X_train_scaled, y_train.ravel())\n",
    "  \n",
    "print('After Undersampling, the shape of train_X: {}'.format(X_train_st.shape))\n",
    "print('After Undersampling, the shape of train_y: {} \\n'.format(y_train_st.shape))\n",
    "  \n",
    "print(\"After Undersampling, counts of label '1': {}\".format(sum(y_train_st == 1)))\n",
    "print(\"After Undersampling, counts of label '0': {}\".format(sum(y_train_st == 0)))"
   ]
  },
  {
   "cell_type": "code",
   "execution_count": null,
   "id": "32a60dfe",
   "metadata": {
    "id": "32a60dfe",
    "outputId": "0a2ad400-3d9d-47d2-91cf-48c408997964"
   },
   "outputs": [
    {
     "name": "stdout",
     "output_type": "stream",
     "text": [
      "F1 on train: 0.8037250510909604\n",
      "F1 on val: 0.42231947483588617\n"
     ]
    }
   ],
   "source": [
    "# initialize model\n",
    "logistic_reg = LogisticRegression(random_state = random_state, penalty = 'l2',\n",
    "                                  class_weight = 'balanced', solver = 'saga')\n",
    "\n",
    "logistic_reg.fit(X_train_st, y_train_st)\n",
    "\n",
    "y_train_pred = logistic_reg.predict(X_train_st)\n",
    "print('F1 on train: ' + str(f1_score(y_train_pred, y_train_st)))\n",
    "\n",
    "y_val_pred = logistic_reg.predict(X_val_scaled)\n",
    "print('F1 on val: ' + str(f1_score(y_val_pred, y_val)))"
   ]
  },
  {
   "cell_type": "code",
   "execution_count": null,
   "id": "94c5ec44",
   "metadata": {
    "id": "94c5ec44"
   },
   "outputs": [],
   "source": [
    "final_results['Logistic regression with SMOTETomek'] = f1_score(y_val_pred, y_val)"
   ]
  },
  {
   "cell_type": "markdown",
   "id": "1fa12888",
   "metadata": {
    "id": "1fa12888"
   },
   "source": [
    "We observe the same results, in terms of sampled data and F1 score, obtained with just SMOTE."
   ]
  },
  {
   "cell_type": "markdown",
   "id": "7d87dc25",
   "metadata": {
    "id": "7d87dc25"
   },
   "source": [
    "#### Sampling algorithms using reduced data\n",
    "\n",
    "My next try will be using these sampling algorithms on the data with less features. Since they are based on the Euclidean distance, the curse of dimensionality could play a negative role in the capacity of the distance measure to effectively express the difference between instances.\n",
    "\n",
    "We observed before that ANOVA allowed to reduce to 150 the number of features and obtaining the same scores obtained with all the features: I'm going to use the features obtained this way and try again the sampling algorithms seen before."
   ]
  },
  {
   "cell_type": "code",
   "execution_count": null,
   "id": "531f0e4a",
   "metadata": {
    "id": "531f0e4a"
   },
   "outputs": [],
   "source": [
    "# features selection\n",
    "\n",
    "# number of features\n",
    "k = 150\n",
    "\n",
    "anova = SelectKBest(score_func = f_classif, k = k)\n",
    "anova.fit(X_train_scaled, y_train)\n",
    "\n",
    "X_train_k_best = anova.transform(X_train_scaled)\n",
    "X_val_k_best = anova.transform(X_val_scaled)"
   ]
  },
  {
   "cell_type": "code",
   "execution_count": null,
   "id": "b0849747",
   "metadata": {
    "id": "b0849747",
    "outputId": "cefce367-f917-4fe4-87fa-1b0609424beb"
   },
   "outputs": [
    {
     "name": "stdout",
     "output_type": "stream",
     "text": [
      "Before Undersampling, counts of label '1': 13634\n",
      "Before Undersampling, counts of label '0': 121366 \n",
      "\n",
      "After Undersampling, the shape of train_X: (27268, 150)\n",
      "After Undersampling, the shape of train_y: (27268,) \n",
      "\n",
      "After Undersampling, counts of label '1': 13634\n",
      "After Undersampling, counts of label '0': 13634 \n",
      "\n",
      "F1 on train: 0.7517447657028914\n",
      "F1 on val: 0.4302413273001508\n"
     ]
    }
   ],
   "source": [
    "# undersamplig with Near Miss\n",
    "\n",
    "print(\"Before Undersampling, counts of label '1': {}\".format(sum(y_train == 1)))\n",
    "print(\"Before Undersampling, counts of label '0': {} \\n\".format(sum(y_train == 0)))\n",
    "\n",
    "\n",
    "# initialize near miss from imbalanced-learn library\n",
    "near_miss = NearMiss()\n",
    "  \n",
    "X_train_miss, y_train_miss = near_miss.fit_resample(X_train_k_best, y_train.ravel())\n",
    "  \n",
    "print('After Undersampling, the shape of train_X: {}'.format(X_train_miss.shape))\n",
    "print('After Undersampling, the shape of train_y: {} \\n'.format(y_train_miss.shape))\n",
    "  \n",
    "print(\"After Undersampling, counts of label '1': {}\".format(sum(y_train_miss == 1)))\n",
    "print(\"After Undersampling, counts of label '0': {} \\n\".format(sum(y_train_miss == 0)))\n",
    "\n",
    "# initialize model\n",
    "logistic_reg = LogisticRegression(random_state = random_state, penalty = 'l2',\n",
    "                                  class_weight = 'balanced', solver = 'saga')\n",
    "\n",
    "logistic_reg.fit(X_train_miss, y_train_miss)\n",
    "\n",
    "y_train_pred = logistic_reg.predict(X_train_miss)\n",
    "print('F1 on train: ' + str(f1_score(y_train_pred, y_train_miss)))\n",
    "\n",
    "\n",
    "y_val_pred = logistic_reg.predict(X_val_k_best)\n",
    "print('F1 on val: ' + str(f1_score(y_val_pred, y_val)))"
   ]
  },
  {
   "cell_type": "markdown",
   "id": "f18a84c4",
   "metadata": {
    "id": "f18a84c4"
   },
   "source": [
    "The results are just a bit better than the ones obtained using all the features."
   ]
  },
  {
   "cell_type": "code",
   "execution_count": null,
   "id": "231036cb",
   "metadata": {
    "id": "231036cb"
   },
   "outputs": [],
   "source": [
    "final_results['Logistic regression with ANOVA and Near Miss'] = f1_score(y_val_pred, y_val)"
   ]
  },
  {
   "cell_type": "code",
   "execution_count": null,
   "id": "f3bfa178",
   "metadata": {
    "id": "f3bfa178",
    "outputId": "576f45c0-f709-46da-f2e6-54877c5e6d8a"
   },
   "outputs": [
    {
     "name": "stdout",
     "output_type": "stream",
     "text": [
      "Before OverSampling, counts of label '1': 13634\n",
      "Before OverSampling, counts of label '0': 121366 \n",
      "\n",
      "After OverSampling, the shape of train_X: (242732, 150)\n",
      "After OverSampling, the shape of train_y: (242732,) \n",
      "\n",
      "After OverSampling, counts of label '1': 121366\n",
      "After OverSampling, counts of label '0': 121366 \n",
      "\n",
      "F1 on train: 0.8021233515711254\n",
      "F1 on val: 0.4205035971223021\n"
     ]
    }
   ],
   "source": [
    "# oversampling with SMOTE\n",
    "\n",
    "print(\"Before OverSampling, counts of label '1': {}\".format(sum(y_train == 1)))\n",
    "print(\"Before OverSampling, counts of label '0': {} \\n\".format(sum(y_train == 0)))\n",
    "\n",
    "# initialize smote from imbalanced-learn library\n",
    "smote = SMOTE(random_state = random_state)\n",
    "\n",
    "X_train_sm, y_train_sm = smote.fit_resample(X_train_k_best, y_train.ravel())\n",
    "  \n",
    "print('After OverSampling, the shape of train_X: {}'.format(X_train_sm.shape))\n",
    "print('After OverSampling, the shape of train_y: {} \\n'.format(y_train_sm.shape))\n",
    "  \n",
    "print(\"After OverSampling, counts of label '1': {}\".format(sum(y_train_sm == 1)))\n",
    "print(\"After OverSampling, counts of label '0': {} \\n\".format(sum(y_train_sm == 0)))\n",
    "\n",
    "# initialize model\n",
    "logistic_reg = LogisticRegression(random_state = random_state, penalty = 'l2',\n",
    "                                  class_weight = 'balanced', solver = 'saga')\n",
    "\n",
    "logistic_reg.fit(X_train_sm, y_train_sm)\n",
    "\n",
    "y_train_pred = logistic_reg.predict(X_train_sm)\n",
    "print('F1 on train: ' + str(f1_score(y_train_pred, y_train_sm)))\n",
    "\n",
    "y_val_pred = logistic_reg.predict(X_val_k_best)\n",
    "print('F1 on val: ' + str(f1_score(y_val_pred, y_val)))"
   ]
  },
  {
   "cell_type": "markdown",
   "id": "14f89f51",
   "metadata": {
    "id": "14f89f51"
   },
   "source": [
    "In the case of oversampling the F1 score doesn't improve with respect to using all the features."
   ]
  },
  {
   "cell_type": "code",
   "execution_count": null,
   "id": "db3f87f3",
   "metadata": {
    "id": "db3f87f3"
   },
   "outputs": [],
   "source": [
    "final_results['Logistic regression with ANOVA and SMOTE'] = f1_score(y_val_pred, y_val)"
   ]
  },
  {
   "cell_type": "code",
   "execution_count": null,
   "id": "a0758a04",
   "metadata": {
    "id": "a0758a04",
    "outputId": "f0eab57d-bfaa-42e6-eea7-3f2d03d32d03"
   },
   "outputs": [
    {
     "name": "stdout",
     "output_type": "stream",
     "text": [
      "Before Undersampling, counts of label '1': 13634\n",
      "Before Undersampling, counts of label '0': 121366 \n",
      "\n",
      "After Undersampling, the shape of train_X: (242732, 150)\n",
      "After Undersampling, the shape of train_y: (242732,) \n",
      "\n",
      "After Undersampling, counts of label '1': 121366\n",
      "After Undersampling, counts of label '0': 121366\n"
     ]
    }
   ],
   "source": [
    "# sampling combination\n",
    "\n",
    "print(\"Before Undersampling, counts of label '1': {}\".format(sum(y_train == 1)))\n",
    "print(\"Before Undersampling, counts of label '0': {} \\n\".format(sum(y_train == 0)))\n",
    "  \n",
    "# initialize smote from imbalanced-learn library    \n",
    "smote_tom = SMOTETomek(random_state = random_state)\n",
    "\n",
    "X_train_st, y_train_st = smote_tom.fit_resample(X_train_k_best, y_train.ravel())\n",
    "  \n",
    "print('After Undersampling, the shape of train_X: {}'.format(X_train_st.shape))\n",
    "print('After Undersampling, the shape of train_y: {} \\n'.format(y_train_st.shape))\n",
    "  \n",
    "print(\"After Undersampling, counts of label '1': {}\".format(sum(y_train_st == 1)))\n",
    "print(\"After Undersampling, counts of label '0': {}\".format(sum(y_train_st == 0)))"
   ]
  },
  {
   "cell_type": "code",
   "execution_count": null,
   "id": "a6f981ad",
   "metadata": {
    "id": "a6f981ad",
    "outputId": "125f1d6f-d810-4c88-db1b-7d422149426c"
   },
   "outputs": [
    {
     "name": "stdout",
     "output_type": "stream",
     "text": [
      "F1 on train: 0.8021233515711254\n",
      "F1 on val: 0.4205035971223021\n"
     ]
    }
   ],
   "source": [
    "# initialize model\n",
    "logistic_reg = LogisticRegression(random_state = random_state, penalty = 'l2',\n",
    "                                  class_weight = 'balanced', solver = 'saga')\n",
    "\n",
    "logistic_reg.fit(X_train_st, y_train_st)\n",
    "\n",
    "y_train_pred = logistic_reg.predict(X_train_st)\n",
    "print('F1 on train: ' + str(f1_score(y_train_pred, y_train_st)))\n",
    "\n",
    "y_val_pred = logistic_reg.predict(X_val_k_best)\n",
    "print('F1 on val: ' + str(f1_score(y_val_pred, y_val)))"
   ]
  },
  {
   "cell_type": "markdown",
   "id": "2f01dd11",
   "metadata": {
    "id": "2f01dd11"
   },
   "source": [
    "Again, when using a combination of under and over sampling, the results are the same as the ones obtained with just oversampling."
   ]
  },
  {
   "cell_type": "code",
   "execution_count": null,
   "id": "4790f937",
   "metadata": {
    "id": "4790f937"
   },
   "outputs": [],
   "source": [
    "final_results['Logistic regression with ANOVA and SMOTETomek'] = f1_score(y_val_pred, y_val)"
   ]
  },
  {
   "cell_type": "markdown",
   "id": "79ca6822",
   "metadata": {
    "id": "79ca6822"
   },
   "source": [
    "#### Sampling algorithms for unbalanced data - Conclusions\n",
    "\n",
    "We observed that, when using Near Miss and the features from ANOVA, the F1 score reaches the best values observed so far. I'm going to proceed with this configuration of the dataset to explore other classification models in the next section."
   ]
  },
  {
   "cell_type": "markdown",
   "id": "bd4ad4c8",
   "metadata": {
    "id": "bd4ad4c8"
   },
   "source": [
    "### Other models"
   ]
  },
  {
   "cell_type": "code",
   "execution_count": null,
   "id": "ef689ed9",
   "metadata": {
    "id": "ef689ed9"
   },
   "outputs": [],
   "source": [
    "# recreate the optimal dataset\n",
    "\n",
    "# features selection\n",
    "\n",
    "# number of features\n",
    "k = 150\n",
    "\n",
    "anova = SelectKBest(score_func = f_classif, k = k)\n",
    "anova.fit(X_train_scaled, y_train)\n",
    "\n",
    "X_train_k_best = anova.transform(X_train_scaled)\n",
    "X_val_k_best = anova.transform(X_val_scaled)\n",
    "\n",
    "\n",
    "# undersampling\n",
    "near_miss = NearMiss()\n",
    "  \n",
    "X_train_miss, y_train_miss = near_miss.fit_resample(X_train_k_best, y_train.ravel())"
   ]
  },
  {
   "cell_type": "markdown",
   "id": "850526da",
   "metadata": {
    "id": "850526da"
   },
   "source": [
    "#### Decision Tree\n",
    "\n",
    "Let's start with Decision Trees. For this model, I'll tune the max depth parameter. Let's fit first the non-tuned model to have an upper bound for the depth."
   ]
  },
  {
   "cell_type": "code",
   "execution_count": null,
   "id": "5e7bc9ce",
   "metadata": {
    "id": "5e7bc9ce",
    "outputId": "c3ccbeeb-0ed3-4698-a3d4-54b58faf14c8"
   },
   "outputs": [
    {
     "name": "stdout",
     "output_type": "stream",
     "text": [
      "Decision Tree max depth: 44\n"
     ]
    }
   ],
   "source": [
    "decision_tree = DecisionTreeClassifier(random_state = random_state, criterion = 'entropy')\n",
    "decision_tree.fit(X_train_miss, y_train_miss)\n",
    "\n",
    "max_depth = decision_tree.tree_.max_depth\n",
    "print('Decision Tree max depth: ' + str(max_depth))"
   ]
  },
  {
   "cell_type": "code",
   "execution_count": null,
   "id": "48e38bd0",
   "metadata": {
    "id": "48e38bd0"
   },
   "outputs": [],
   "source": [
    "# tune the decision tree\n",
    "\n",
    "results = {}\n",
    "depths = range(1, max_depth, 5)\n",
    "\n",
    "for d in depths:\n",
    "    \n",
    "    # initialize and fit the model\n",
    "    decision_tree = DecisionTreeClassifier(random_state = random_state, criterion = 'entropy', max_depth = d)\n",
    "    decision_tree.fit(X_train_miss, y_train_miss)\n",
    "    \n",
    "    # predict\n",
    "    y_train_pred = decision_tree.predict(X_train_miss)\n",
    "    y_val_pred = decision_tree.predict(X_val_k_best)\n",
    "    \n",
    "    # store results\n",
    "    results[d] = [f1_score(y_train_pred, y_train_miss), f1_score(y_val_pred, y_val)]"
   ]
  },
  {
   "cell_type": "code",
   "execution_count": null,
   "id": "0e4fc179",
   "metadata": {
    "id": "0e4fc179",
    "outputId": "b498fb85-3c13-4fad-f33d-0c0319fb803a"
   },
   "outputs": [
    {
     "name": "stdout",
     "output_type": "stream",
     "text": [
      "Depth: 1\n",
      "F1 on train: 0.29018275538894095\n",
      "F1 on validation: 0.19710729902455432\n",
      "\n",
      "Depth: 6\n",
      "F1 on train: 0.6394874337363182\n",
      "F1 on validation: 0.24177872453734522\n",
      "\n",
      "Depth: 11\n",
      "F1 on train: 0.6526486049332795\n",
      "F1 on validation: 0.2727095135768705\n",
      "\n",
      "Depth: 16\n",
      "F1 on train: 0.79559049735088\n",
      "F1 on validation: 0.2699237699237699\n",
      "\n",
      "Depth: 21\n",
      "F1 on train: 0.899768758472211\n",
      "F1 on validation: 0.26511009309886213\n",
      "\n",
      "Depth: 26\n",
      "F1 on train: 0.960291273182387\n",
      "F1 on validation: 0.25089415816664457\n",
      "\n",
      "Depth: 31\n",
      "F1 on train: 0.9866874327882226\n",
      "F1 on validation: 0.24216702034702284\n",
      "\n",
      "Depth: 36\n",
      "F1 on train: 0.9966887417218544\n",
      "F1 on validation: 0.23776739611507253\n",
      "\n",
      "Depth: 41\n",
      "F1 on train: 0.9994130594277331\n",
      "F1 on validation: 0.236083984375\n",
      "\n"
     ]
    }
   ],
   "source": [
    "for d in results:\n",
    "    print('Depth: ' + str(d))\n",
    "    print('F1 on train: ' + str(results[d][0]))\n",
    "    print('F1 on validation: ' + str(results[d][1]) + '\\n')"
   ]
  },
  {
   "cell_type": "markdown",
   "id": "fca144f6",
   "metadata": {
    "id": "fca144f6"
   },
   "source": [
    "The best score is obtained is a depth equal to 11: still, the results are way worse with respect to the ones observed with logistic regression."
   ]
  },
  {
   "cell_type": "code",
   "execution_count": null,
   "id": "670febdc",
   "metadata": {
    "id": "670febdc"
   },
   "outputs": [],
   "source": [
    "max_depth = 11"
   ]
  },
  {
   "cell_type": "code",
   "execution_count": null,
   "id": "36fa6513",
   "metadata": {
    "id": "36fa6513"
   },
   "outputs": [],
   "source": [
    "final_results['Decision Tree with ANOVA and Near Miss'] = results[max_depth][1]"
   ]
  },
  {
   "cell_type": "markdown",
   "id": "cc4d178b",
   "metadata": {
    "id": "cc4d178b"
   },
   "source": [
    "#### Random Forests\n",
    "\n",
    "Let's try now with Random Forests. In this case I'll tune the number of estimators and I'll use the best depth found before as max depth."
   ]
  },
  {
   "cell_type": "code",
   "execution_count": null,
   "id": "b9bf75b3",
   "metadata": {
    "id": "b9bf75b3"
   },
   "outputs": [],
   "source": [
    "results = {}\n",
    "n_estimators = [100, 200, 300]\n",
    "\n",
    "for n in n_estimators:\n",
    "\n",
    "    # initialize and fit model\n",
    "    rand_forest = RandomForestClassifier(random_state = random_state, criterion = 'entropy', \n",
    "                                       max_depth = max_depth, n_estimators = n)\n",
    "\n",
    "    rand_forest.fit(X_train_miss, y_train_miss)\n",
    "    \n",
    "    # predict\n",
    "    y_train_pred = rand_forest.predict(X_train_miss)\n",
    "    y_val_pred = rand_forest.predict(X_val_k_best)\n",
    "    \n",
    "    # store results\n",
    "    results[n] = [f1_score(y_train_pred, y_train_miss), f1_score(y_val_pred, y_val)]"
   ]
  },
  {
   "cell_type": "code",
   "execution_count": null,
   "id": "ff0e292a",
   "metadata": {
    "id": "ff0e292a",
    "outputId": "ed75d89a-2f4f-4fe3-9472-539259410cd8"
   },
   "outputs": [
    {
     "name": "stdout",
     "output_type": "stream",
     "text": [
      "# estimators: 100\n",
      "F1 on train: 0.8824838991810448\n",
      "F1 on validation: 0.3364737550471063\n",
      "\n",
      "# estimators: 200\n",
      "F1 on train: 0.890436582162614\n",
      "F1 on validation: 0.34223956769738817\n",
      "\n",
      "# estimators: 300\n",
      "F1 on train: 0.8914731769485046\n",
      "F1 on validation: 0.34310629980454066\n",
      "\n"
     ]
    }
   ],
   "source": [
    "for n in results:\n",
    "    print('# estimators: ' + str(n))\n",
    "    print('F1 on train: ' + str(results[n][0]))\n",
    "    print('F1 on validation: ' + str(results[n][1]) + '\\n')"
   ]
  },
  {
   "cell_type": "markdown",
   "id": "993289e8",
   "metadata": {
    "id": "993289e8"
   },
   "source": [
    "The performances are pretty much the same regardless of the number of estimators: with 300 they are marginally better but, as we observed with decision trees, the scores aren't close to the ones obtained with logistic regression."
   ]
  },
  {
   "cell_type": "code",
   "execution_count": null,
   "id": "0d3ec361",
   "metadata": {
    "id": "0d3ec361"
   },
   "outputs": [],
   "source": [
    "final_results['Random Forests with ANOVA and Near Miss'] = results[300][1]"
   ]
  },
  {
   "cell_type": "markdown",
   "id": "0266de52",
   "metadata": {
    "id": "0266de52"
   },
   "source": [
    "The last models that I'm going to try are Naive Bayes and Support Vector Machines."
   ]
  },
  {
   "cell_type": "markdown",
   "id": "5b9fc22d",
   "metadata": {
    "id": "5b9fc22d"
   },
   "source": [
    "#### Naive Bayes"
   ]
  },
  {
   "cell_type": "code",
   "execution_count": null,
   "id": "eea9865a",
   "metadata": {
    "id": "eea9865a",
    "outputId": "f5ba6689-92b4-404a-f2d9-1b70b7c43765"
   },
   "outputs": [
    {
     "data": {
      "text/html": [
       "<style>#sk-container-id-3 {color: black;background-color: white;}#sk-container-id-3 pre{padding: 0;}#sk-container-id-3 div.sk-toggleable {background-color: white;}#sk-container-id-3 label.sk-toggleable__label {cursor: pointer;display: block;width: 100%;margin-bottom: 0;padding: 0.3em;box-sizing: border-box;text-align: center;}#sk-container-id-3 label.sk-toggleable__label-arrow:before {content: \"▸\";float: left;margin-right: 0.25em;color: #696969;}#sk-container-id-3 label.sk-toggleable__label-arrow:hover:before {color: black;}#sk-container-id-3 div.sk-estimator:hover label.sk-toggleable__label-arrow:before {color: black;}#sk-container-id-3 div.sk-toggleable__content {max-height: 0;max-width: 0;overflow: hidden;text-align: left;background-color: #f0f8ff;}#sk-container-id-3 div.sk-toggleable__content pre {margin: 0.2em;color: black;border-radius: 0.25em;background-color: #f0f8ff;}#sk-container-id-3 input.sk-toggleable__control:checked~div.sk-toggleable__content {max-height: 200px;max-width: 100%;overflow: auto;}#sk-container-id-3 input.sk-toggleable__control:checked~label.sk-toggleable__label-arrow:before {content: \"▾\";}#sk-container-id-3 div.sk-estimator input.sk-toggleable__control:checked~label.sk-toggleable__label {background-color: #d4ebff;}#sk-container-id-3 div.sk-label input.sk-toggleable__control:checked~label.sk-toggleable__label {background-color: #d4ebff;}#sk-container-id-3 input.sk-hidden--visually {border: 0;clip: rect(1px 1px 1px 1px);clip: rect(1px, 1px, 1px, 1px);height: 1px;margin: -1px;overflow: hidden;padding: 0;position: absolute;width: 1px;}#sk-container-id-3 div.sk-estimator {font-family: monospace;background-color: #f0f8ff;border: 1px dotted black;border-radius: 0.25em;box-sizing: border-box;margin-bottom: 0.5em;}#sk-container-id-3 div.sk-estimator:hover {background-color: #d4ebff;}#sk-container-id-3 div.sk-parallel-item::after {content: \"\";width: 100%;border-bottom: 1px solid gray;flex-grow: 1;}#sk-container-id-3 div.sk-label:hover label.sk-toggleable__label {background-color: #d4ebff;}#sk-container-id-3 div.sk-serial::before {content: \"\";position: absolute;border-left: 1px solid gray;box-sizing: border-box;top: 0;bottom: 0;left: 50%;z-index: 0;}#sk-container-id-3 div.sk-serial {display: flex;flex-direction: column;align-items: center;background-color: white;padding-right: 0.2em;padding-left: 0.2em;position: relative;}#sk-container-id-3 div.sk-item {position: relative;z-index: 1;}#sk-container-id-3 div.sk-parallel {display: flex;align-items: stretch;justify-content: center;background-color: white;position: relative;}#sk-container-id-3 div.sk-item::before, #sk-container-id-3 div.sk-parallel-item::before {content: \"\";position: absolute;border-left: 1px solid gray;box-sizing: border-box;top: 0;bottom: 0;left: 50%;z-index: -1;}#sk-container-id-3 div.sk-parallel-item {display: flex;flex-direction: column;z-index: 1;position: relative;background-color: white;}#sk-container-id-3 div.sk-parallel-item:first-child::after {align-self: flex-end;width: 50%;}#sk-container-id-3 div.sk-parallel-item:last-child::after {align-self: flex-start;width: 50%;}#sk-container-id-3 div.sk-parallel-item:only-child::after {width: 0;}#sk-container-id-3 div.sk-dashed-wrapped {border: 1px dashed gray;margin: 0 0.4em 0.5em 0.4em;box-sizing: border-box;padding-bottom: 0.4em;background-color: white;}#sk-container-id-3 div.sk-label label {font-family: monospace;font-weight: bold;display: inline-block;line-height: 1.2em;}#sk-container-id-3 div.sk-label-container {text-align: center;}#sk-container-id-3 div.sk-container {/* jupyter's `normalize.less` sets `[hidden] { display: none; }` but bootstrap.min.css set `[hidden] { display: none !important; }` so we also need the `!important` here to be able to override the default hidden behavior on the sphinx rendered scikit-learn.org. See: https://github.com/scikit-learn/scikit-learn/issues/21755 */display: inline-block !important;position: relative;}#sk-container-id-3 div.sk-text-repr-fallback {display: none;}</style><div id=\"sk-container-id-3\" class=\"sk-top-container\"><div class=\"sk-text-repr-fallback\"><pre>GaussianNB()</pre><b>In a Jupyter environment, please rerun this cell to show the HTML representation or trust the notebook. <br />On GitHub, the HTML representation is unable to render, please try loading this page with nbviewer.org.</b></div><div class=\"sk-container\" hidden><div class=\"sk-item\"><div class=\"sk-estimator sk-toggleable\"><input class=\"sk-toggleable__control sk-hidden--visually\" id=\"sk-estimator-id-5\" type=\"checkbox\" checked><label for=\"sk-estimator-id-5\" class=\"sk-toggleable__label sk-toggleable__label-arrow\">GaussianNB</label><div class=\"sk-toggleable__content\"><pre>GaussianNB()</pre></div></div></div></div></div>"
      ],
      "text/plain": [
       "GaussianNB()"
      ]
     },
     "execution_count": 67,
     "metadata": {},
     "output_type": "execute_result"
    }
   ],
   "source": [
    "# initialize and fit the model\n",
    "gnb = GaussianNB()\n",
    "gnb.fit(X_train_miss, y_train_miss)"
   ]
  },
  {
   "cell_type": "code",
   "execution_count": null,
   "id": "1e2e7ce7",
   "metadata": {
    "id": "1e2e7ce7",
    "outputId": "65a791cb-a3b8-4b18-fd9d-83afa970da8c"
   },
   "outputs": [
    {
     "name": "stdout",
     "output_type": "stream",
     "text": [
      "F1 on train: 0.9239432389819054\n",
      "F1 on validation: 0.3093607305936073\n"
     ]
    }
   ],
   "source": [
    "y_train_pred = gnb.predict(X_train_miss)\n",
    "print('F1 on train: ' + str(f1_score(y_train_pred, y_train_miss)))\n",
    "\n",
    "y_val_pred = gnb.predict(X_val_k_best)\n",
    "print('F1 on validation: ' + str(f1_score(y_val_pred, y_val)))"
   ]
  },
  {
   "cell_type": "code",
   "execution_count": null,
   "id": "e0fcd4fa",
   "metadata": {
    "id": "e0fcd4fa"
   },
   "outputs": [],
   "source": [
    "final_results['Naive Bayes with ANOVA and Near Miss'] = f1_score(y_val_pred, y_val)"
   ]
  },
  {
   "cell_type": "markdown",
   "id": "a40eecd2",
   "metadata": {
    "id": "a40eecd2"
   },
   "source": [
    "#### Support Vector Machines"
   ]
  },
  {
   "cell_type": "code",
   "execution_count": null,
   "id": "4ab13837",
   "metadata": {
    "id": "4ab13837",
    "outputId": "0039cd3d-548a-4ddf-c04f-83e7a860db29"
   },
   "outputs": [
    {
     "data": {
      "text/html": [
       "<style>#sk-container-id-4 {color: black;background-color: white;}#sk-container-id-4 pre{padding: 0;}#sk-container-id-4 div.sk-toggleable {background-color: white;}#sk-container-id-4 label.sk-toggleable__label {cursor: pointer;display: block;width: 100%;margin-bottom: 0;padding: 0.3em;box-sizing: border-box;text-align: center;}#sk-container-id-4 label.sk-toggleable__label-arrow:before {content: \"▸\";float: left;margin-right: 0.25em;color: #696969;}#sk-container-id-4 label.sk-toggleable__label-arrow:hover:before {color: black;}#sk-container-id-4 div.sk-estimator:hover label.sk-toggleable__label-arrow:before {color: black;}#sk-container-id-4 div.sk-toggleable__content {max-height: 0;max-width: 0;overflow: hidden;text-align: left;background-color: #f0f8ff;}#sk-container-id-4 div.sk-toggleable__content pre {margin: 0.2em;color: black;border-radius: 0.25em;background-color: #f0f8ff;}#sk-container-id-4 input.sk-toggleable__control:checked~div.sk-toggleable__content {max-height: 200px;max-width: 100%;overflow: auto;}#sk-container-id-4 input.sk-toggleable__control:checked~label.sk-toggleable__label-arrow:before {content: \"▾\";}#sk-container-id-4 div.sk-estimator input.sk-toggleable__control:checked~label.sk-toggleable__label {background-color: #d4ebff;}#sk-container-id-4 div.sk-label input.sk-toggleable__control:checked~label.sk-toggleable__label {background-color: #d4ebff;}#sk-container-id-4 input.sk-hidden--visually {border: 0;clip: rect(1px 1px 1px 1px);clip: rect(1px, 1px, 1px, 1px);height: 1px;margin: -1px;overflow: hidden;padding: 0;position: absolute;width: 1px;}#sk-container-id-4 div.sk-estimator {font-family: monospace;background-color: #f0f8ff;border: 1px dotted black;border-radius: 0.25em;box-sizing: border-box;margin-bottom: 0.5em;}#sk-container-id-4 div.sk-estimator:hover {background-color: #d4ebff;}#sk-container-id-4 div.sk-parallel-item::after {content: \"\";width: 100%;border-bottom: 1px solid gray;flex-grow: 1;}#sk-container-id-4 div.sk-label:hover label.sk-toggleable__label {background-color: #d4ebff;}#sk-container-id-4 div.sk-serial::before {content: \"\";position: absolute;border-left: 1px solid gray;box-sizing: border-box;top: 0;bottom: 0;left: 50%;z-index: 0;}#sk-container-id-4 div.sk-serial {display: flex;flex-direction: column;align-items: center;background-color: white;padding-right: 0.2em;padding-left: 0.2em;position: relative;}#sk-container-id-4 div.sk-item {position: relative;z-index: 1;}#sk-container-id-4 div.sk-parallel {display: flex;align-items: stretch;justify-content: center;background-color: white;position: relative;}#sk-container-id-4 div.sk-item::before, #sk-container-id-4 div.sk-parallel-item::before {content: \"\";position: absolute;border-left: 1px solid gray;box-sizing: border-box;top: 0;bottom: 0;left: 50%;z-index: -1;}#sk-container-id-4 div.sk-parallel-item {display: flex;flex-direction: column;z-index: 1;position: relative;background-color: white;}#sk-container-id-4 div.sk-parallel-item:first-child::after {align-self: flex-end;width: 50%;}#sk-container-id-4 div.sk-parallel-item:last-child::after {align-self: flex-start;width: 50%;}#sk-container-id-4 div.sk-parallel-item:only-child::after {width: 0;}#sk-container-id-4 div.sk-dashed-wrapped {border: 1px dashed gray;margin: 0 0.4em 0.5em 0.4em;box-sizing: border-box;padding-bottom: 0.4em;background-color: white;}#sk-container-id-4 div.sk-label label {font-family: monospace;font-weight: bold;display: inline-block;line-height: 1.2em;}#sk-container-id-4 div.sk-label-container {text-align: center;}#sk-container-id-4 div.sk-container {/* jupyter's `normalize.less` sets `[hidden] { display: none; }` but bootstrap.min.css set `[hidden] { display: none !important; }` so we also need the `!important` here to be able to override the default hidden behavior on the sphinx rendered scikit-learn.org. See: https://github.com/scikit-learn/scikit-learn/issues/21755 */display: inline-block !important;position: relative;}#sk-container-id-4 div.sk-text-repr-fallback {display: none;}</style><div id=\"sk-container-id-4\" class=\"sk-top-container\"><div class=\"sk-text-repr-fallback\"><pre>SVC(random_state=1)</pre><b>In a Jupyter environment, please rerun this cell to show the HTML representation or trust the notebook. <br />On GitHub, the HTML representation is unable to render, please try loading this page with nbviewer.org.</b></div><div class=\"sk-container\" hidden><div class=\"sk-item\"><div class=\"sk-estimator sk-toggleable\"><input class=\"sk-toggleable__control sk-hidden--visually\" id=\"sk-estimator-id-6\" type=\"checkbox\" checked><label for=\"sk-estimator-id-6\" class=\"sk-toggleable__label sk-toggleable__label-arrow\">SVC</label><div class=\"sk-toggleable__content\"><pre>SVC(random_state=1)</pre></div></div></div></div></div>"
      ],
      "text/plain": [
       "SVC(random_state=1)"
      ]
     },
     "execution_count": 70,
     "metadata": {},
     "output_type": "execute_result"
    }
   ],
   "source": [
    "# initialize and fit the model\n",
    "svc = SVC(random_state = random_state)\n",
    "svc.fit(X_train_miss, y_train_miss)"
   ]
  },
  {
   "cell_type": "code",
   "execution_count": null,
   "id": "9ff96bf5",
   "metadata": {
    "id": "9ff96bf5",
    "outputId": "afbb8a25-2bf3-48c8-e6c2-7afa5c3d9719"
   },
   "outputs": [
    {
     "name": "stdout",
     "output_type": "stream",
     "text": [
      "F1 on train: 0.976111504490739\n",
      "F1 on validation: 0.2527956003666361\n"
     ]
    }
   ],
   "source": [
    "y_train_pred = svc.predict(X_train_miss)\n",
    "print('F1 on train: ' + str(f1_score(y_train_pred, y_train_miss)))\n",
    "\n",
    "y_val_pred = svc.predict(X_val_k_best)\n",
    "print('F1 on validation: ' + str(f1_score(y_val_pred, y_val)))"
   ]
  },
  {
   "cell_type": "code",
   "execution_count": null,
   "id": "57652a0d",
   "metadata": {
    "id": "57652a0d"
   },
   "outputs": [],
   "source": [
    "final_results['Support Vector Machines with ANOVA and Near Miss'] = f1_score(y_val_pred, y_val)"
   ]
  },
  {
   "cell_type": "markdown",
   "id": "93cbae31",
   "metadata": {
    "id": "93cbae31"
   },
   "source": [
    "#### Other models - Conclusions\n",
    "\n",
    "We've seen that using other classifiers doesn't improve the results obtained with logistic regression: in particular, this model provides much better results with respect to the ones tested in this section. "
   ]
  },
  {
   "cell_type": "markdown",
   "id": "ca52eb7b",
   "metadata": {
    "id": "ca52eb7b"
   },
   "source": [
    "### Alternative approach - One Class Classification\n",
    "\n",
    "One last approach that I'll try is treating the problem as **anomaly detection**. In machine learning, to tackle this type of challange, **one class classifiers** are among the options. I'll use the one class version of SVM."
   ]
  },
  {
   "cell_type": "code",
   "execution_count": null,
   "id": "65a088bb",
   "metadata": {
    "id": "65a088bb"
   },
   "outputs": [],
   "source": [
    "# to train on majority class\n",
    "X_train_0 = X_train_scaled[y_train == 0]"
   ]
  },
  {
   "cell_type": "code",
   "execution_count": null,
   "id": "601be7d9",
   "metadata": {
    "id": "601be7d9"
   },
   "outputs": [],
   "source": [
    "from sklearn.svm import OneClassSVM\n",
    "\n",
    "# define outlier detection model\n",
    "one_class_svm = OneClassSVM(nu = 0.2) \n",
    "\n",
    "# The nu parameter is both a lower bound for the number of samples that are support vectors and \n",
    "# an upper bound for the number of samples that are on the wrong side of the hyperplane\n",
    "\n",
    "one_class_svm.fit(X_train_0)\n",
    "\n",
    "# the predict() function will output a +1 for normal examples (inliers) and a -1 for outliers\n",
    "# detect outliers in the test set\n",
    "y_val_pred = one_class_svm.predict(X_val_scaled)\n",
    "\n",
    "# copy y_val to not change the original data\n",
    "y_val_ = y_val.copy()\n",
    "\n",
    "# mark inliers 1, outliers -1\n",
    "y_val_[y_val_ == 1] = -1\n",
    "y_val_[y_val_ == 0] = 1"
   ]
  },
  {
   "cell_type": "code",
   "execution_count": null,
   "id": "ca8bdb5f",
   "metadata": {
    "id": "ca8bdb5f",
    "outputId": "af35f4a9-45cb-42bf-f465-5293d40c2439"
   },
   "outputs": [
    {
     "name": "stdout",
     "output_type": "stream",
     "text": [
      "F1 on validation: 0.3021813087852711\n"
     ]
    }
   ],
   "source": [
    "# calculate score\n",
    "score = f1_score(y_val_, y_val_pred, pos_label = -1)\n",
    "print('F1 on validation: ' + str(score))"
   ]
  },
  {
   "cell_type": "markdown",
   "id": "b8bce13b",
   "metadata": {
    "id": "b8bce13b"
   },
   "source": [
    "Again, the score obtained is not as good as the one obtained with logistic regression."
   ]
  },
  {
   "cell_type": "code",
   "execution_count": null,
   "id": "aa43b611",
   "metadata": {
    "id": "aa43b611"
   },
   "outputs": [],
   "source": [
    "final_results['One class approach - SVM'] = score"
   ]
  },
  {
   "cell_type": "code",
   "execution_count": null,
   "id": "e7166f94",
   "metadata": {
    "id": "e7166f94"
   },
   "outputs": [],
   "source": [
    "# create models, scores dictionary to load it later as pandas df\n",
    "\n",
    "models = []\n",
    "scores = []\n",
    "\n",
    "for model in final_results:\n",
    "    models.append(model)\n",
    "    scores.append(final_results[model])\n",
    "    \n",
    "final_dict = {}\n",
    "final_dict['Models'] = models\n",
    "final_dict['F1 score'] = scores"
   ]
  },
  {
   "cell_type": "code",
   "execution_count": null,
   "id": "82ab2798",
   "metadata": {
    "id": "82ab2798"
   },
   "outputs": [],
   "source": [
    "# save dictionary with final results\n",
    "\n",
    "path_dict = \"./results/final_results.json\"\n",
    "\n",
    "with open(path_dict, 'w') as fp:\n",
    "    json.dump(final_dict, fp)"
   ]
  },
  {
   "cell_type": "markdown",
   "id": "9f5ca51f",
   "metadata": {
    "id": "9f5ca51f"
   },
   "source": [
    "## Final results"
   ]
  },
  {
   "cell_type": "markdown",
   "id": "52b0a434",
   "metadata": {
    "id": "52b0a434"
   },
   "source": [
    "In this section I'll summarize the results obtained so far on the validation set: the method that produced the best score will be used on the test set to obtain the final evaluation."
   ]
  },
  {
   "cell_type": "code",
   "execution_count": 22,
   "id": "ab7c7a18",
   "metadata": {
    "id": "ab7c7a18",
    "outputId": "9b308004-d781-4e82-fccb-264a33dcc310"
   },
   "outputs": [
    {
     "data": {
      "text/html": [
       "<div>\n",
       "<style scoped>\n",
       "    .dataframe tbody tr th:only-of-type {\n",
       "        vertical-align: middle;\n",
       "    }\n",
       "\n",
       "    .dataframe tbody tr th {\n",
       "        vertical-align: top;\n",
       "    }\n",
       "\n",
       "    .dataframe thead th {\n",
       "        text-align: right;\n",
       "    }\n",
       "</style>\n",
       "<table border=\"1\" class=\"dataframe\">\n",
       "  <thead>\n",
       "    <tr style=\"text-align: right;\">\n",
       "      <th></th>\n",
       "      <th>Models</th>\n",
       "      <th>F1 score</th>\n",
       "    </tr>\n",
       "  </thead>\n",
       "  <tbody>\n",
       "    <tr>\n",
       "      <th>0</th>\n",
       "      <td>Logistic regression baseline</td>\n",
       "      <td>0.420251</td>\n",
       "    </tr>\n",
       "    <tr>\n",
       "      <th>1</th>\n",
       "      <td>Logistic regression with ANOVA - 150 features</td>\n",
       "      <td>0.420180</td>\n",
       "    </tr>\n",
       "    <tr>\n",
       "      <th>2</th>\n",
       "      <td>Logistic regression with Mutual Info - 170 fea...</td>\n",
       "      <td>0.411099</td>\n",
       "    </tr>\n",
       "    <tr>\n",
       "      <th>3</th>\n",
       "      <td>Logistic regression with Random Forests Feat. ...</td>\n",
       "      <td>0.377583</td>\n",
       "    </tr>\n",
       "    <tr>\n",
       "      <th>4</th>\n",
       "      <td>Logistic Regression with PCA - 0.95</td>\n",
       "      <td>0.420680</td>\n",
       "    </tr>\n",
       "    <tr>\n",
       "      <th>5</th>\n",
       "      <td>Logistic Regression with PCA - 0.90</td>\n",
       "      <td>0.420120</td>\n",
       "    </tr>\n",
       "    <tr>\n",
       "      <th>6</th>\n",
       "      <td>Logistic regression with Near Miss</td>\n",
       "      <td>0.429212</td>\n",
       "    </tr>\n",
       "    <tr>\n",
       "      <th>7</th>\n",
       "      <td>Logistic regression with SMOTE</td>\n",
       "      <td>0.422319</td>\n",
       "    </tr>\n",
       "    <tr>\n",
       "      <th>8</th>\n",
       "      <td>Logistic regression with SMOTETomek</td>\n",
       "      <td>0.422319</td>\n",
       "    </tr>\n",
       "    <tr>\n",
       "      <th>9</th>\n",
       "      <td>Logistic regression with ANOVA and Near Miss</td>\n",
       "      <td>0.430241</td>\n",
       "    </tr>\n",
       "    <tr>\n",
       "      <th>10</th>\n",
       "      <td>Logistic regression with ANOVA and SMOTE</td>\n",
       "      <td>0.420504</td>\n",
       "    </tr>\n",
       "    <tr>\n",
       "      <th>11</th>\n",
       "      <td>Logistic regression with ANOVA and SMOTETomek</td>\n",
       "      <td>0.420504</td>\n",
       "    </tr>\n",
       "    <tr>\n",
       "      <th>12</th>\n",
       "      <td>Decision Tree with ANOVA and Near Miss</td>\n",
       "      <td>0.272710</td>\n",
       "    </tr>\n",
       "    <tr>\n",
       "      <th>13</th>\n",
       "      <td>Random Forests with ANOVA and Near Miss</td>\n",
       "      <td>0.343106</td>\n",
       "    </tr>\n",
       "    <tr>\n",
       "      <th>14</th>\n",
       "      <td>Naive Bayes with ANOVA and Near Miss</td>\n",
       "      <td>0.309361</td>\n",
       "    </tr>\n",
       "    <tr>\n",
       "      <th>15</th>\n",
       "      <td>Support Vector Machines with ANOVA and Near Miss</td>\n",
       "      <td>0.252796</td>\n",
       "    </tr>\n",
       "    <tr>\n",
       "      <th>16</th>\n",
       "      <td>One class approach - SVM</td>\n",
       "      <td>0.302181</td>\n",
       "    </tr>\n",
       "  </tbody>\n",
       "</table>\n",
       "</div>"
      ],
      "text/plain": [
       "                                               Models  F1 score\n",
       "0                        Logistic regression baseline  0.420251\n",
       "1       Logistic regression with ANOVA - 150 features  0.420180\n",
       "2   Logistic regression with Mutual Info - 170 fea...  0.411099\n",
       "3   Logistic regression with Random Forests Feat. ...  0.377583\n",
       "4                 Logistic Regression with PCA - 0.95  0.420680\n",
       "5                 Logistic Regression with PCA - 0.90  0.420120\n",
       "6                  Logistic regression with Near Miss  0.429212\n",
       "7                      Logistic regression with SMOTE  0.422319\n",
       "8                 Logistic regression with SMOTETomek  0.422319\n",
       "9        Logistic regression with ANOVA and Near Miss  0.430241\n",
       "10           Logistic regression with ANOVA and SMOTE  0.420504\n",
       "11      Logistic regression with ANOVA and SMOTETomek  0.420504\n",
       "12             Decision Tree with ANOVA and Near Miss  0.272710\n",
       "13            Random Forests with ANOVA and Near Miss  0.343106\n",
       "14               Naive Bayes with ANOVA and Near Miss  0.309361\n",
       "15   Support Vector Machines with ANOVA and Near Miss  0.252796\n",
       "16                           One class approach - SVM  0.302181"
      ]
     },
     "execution_count": 22,
     "metadata": {},
     "output_type": "execute_result"
    }
   ],
   "source": [
    "# load dictionary with final results\n",
    "\n",
    "path_dict = \"./results/final_results.json\"\n",
    "  \n",
    "\n",
    "final_results = pd.read_json(path_dict)\n",
    "final_results"
   ]
  },
  {
   "cell_type": "markdown",
   "id": "3401cf2f",
   "metadata": {
    "id": "3401cf2f"
   },
   "source": [
    "As already anticipated, the logistic regression, trained on the training set after ANOVA and Near Miss undersample, was the model that delivered the best performance."
   ]
  },
  {
   "cell_type": "code",
   "execution_count": 11,
   "id": "34d28531",
   "metadata": {
    "id": "34d28531",
    "outputId": "9850ed02-e69e-465c-a781-680a47d39b08"
   },
   "outputs": [
    {
     "data": {
      "text/html": [
       "<style>#sk-container-id-1 {color: black;background-color: white;}#sk-container-id-1 pre{padding: 0;}#sk-container-id-1 div.sk-toggleable {background-color: white;}#sk-container-id-1 label.sk-toggleable__label {cursor: pointer;display: block;width: 100%;margin-bottom: 0;padding: 0.3em;box-sizing: border-box;text-align: center;}#sk-container-id-1 label.sk-toggleable__label-arrow:before {content: \"▸\";float: left;margin-right: 0.25em;color: #696969;}#sk-container-id-1 label.sk-toggleable__label-arrow:hover:before {color: black;}#sk-container-id-1 div.sk-estimator:hover label.sk-toggleable__label-arrow:before {color: black;}#sk-container-id-1 div.sk-toggleable__content {max-height: 0;max-width: 0;overflow: hidden;text-align: left;background-color: #f0f8ff;}#sk-container-id-1 div.sk-toggleable__content pre {margin: 0.2em;color: black;border-radius: 0.25em;background-color: #f0f8ff;}#sk-container-id-1 input.sk-toggleable__control:checked~div.sk-toggleable__content {max-height: 200px;max-width: 100%;overflow: auto;}#sk-container-id-1 input.sk-toggleable__control:checked~label.sk-toggleable__label-arrow:before {content: \"▾\";}#sk-container-id-1 div.sk-estimator input.sk-toggleable__control:checked~label.sk-toggleable__label {background-color: #d4ebff;}#sk-container-id-1 div.sk-label input.sk-toggleable__control:checked~label.sk-toggleable__label {background-color: #d4ebff;}#sk-container-id-1 input.sk-hidden--visually {border: 0;clip: rect(1px 1px 1px 1px);clip: rect(1px, 1px, 1px, 1px);height: 1px;margin: -1px;overflow: hidden;padding: 0;position: absolute;width: 1px;}#sk-container-id-1 div.sk-estimator {font-family: monospace;background-color: #f0f8ff;border: 1px dotted black;border-radius: 0.25em;box-sizing: border-box;margin-bottom: 0.5em;}#sk-container-id-1 div.sk-estimator:hover {background-color: #d4ebff;}#sk-container-id-1 div.sk-parallel-item::after {content: \"\";width: 100%;border-bottom: 1px solid gray;flex-grow: 1;}#sk-container-id-1 div.sk-label:hover label.sk-toggleable__label {background-color: #d4ebff;}#sk-container-id-1 div.sk-serial::before {content: \"\";position: absolute;border-left: 1px solid gray;box-sizing: border-box;top: 0;bottom: 0;left: 50%;z-index: 0;}#sk-container-id-1 div.sk-serial {display: flex;flex-direction: column;align-items: center;background-color: white;padding-right: 0.2em;padding-left: 0.2em;position: relative;}#sk-container-id-1 div.sk-item {position: relative;z-index: 1;}#sk-container-id-1 div.sk-parallel {display: flex;align-items: stretch;justify-content: center;background-color: white;position: relative;}#sk-container-id-1 div.sk-item::before, #sk-container-id-1 div.sk-parallel-item::before {content: \"\";position: absolute;border-left: 1px solid gray;box-sizing: border-box;top: 0;bottom: 0;left: 50%;z-index: -1;}#sk-container-id-1 div.sk-parallel-item {display: flex;flex-direction: column;z-index: 1;position: relative;background-color: white;}#sk-container-id-1 div.sk-parallel-item:first-child::after {align-self: flex-end;width: 50%;}#sk-container-id-1 div.sk-parallel-item:last-child::after {align-self: flex-start;width: 50%;}#sk-container-id-1 div.sk-parallel-item:only-child::after {width: 0;}#sk-container-id-1 div.sk-dashed-wrapped {border: 1px dashed gray;margin: 0 0.4em 0.5em 0.4em;box-sizing: border-box;padding-bottom: 0.4em;background-color: white;}#sk-container-id-1 div.sk-label label {font-family: monospace;font-weight: bold;display: inline-block;line-height: 1.2em;}#sk-container-id-1 div.sk-label-container {text-align: center;}#sk-container-id-1 div.sk-container {/* jupyter's `normalize.less` sets `[hidden] { display: none; }` but bootstrap.min.css set `[hidden] { display: none !important; }` so we also need the `!important` here to be able to override the default hidden behavior on the sphinx rendered scikit-learn.org. See: https://github.com/scikit-learn/scikit-learn/issues/21755 */display: inline-block !important;position: relative;}#sk-container-id-1 div.sk-text-repr-fallback {display: none;}</style><div id=\"sk-container-id-1\" class=\"sk-top-container\"><div class=\"sk-text-repr-fallback\"><pre>LogisticRegression(class_weight=&#x27;balanced&#x27;, random_state=1, solver=&#x27;saga&#x27;)</pre><b>In a Jupyter environment, please rerun this cell to show the HTML representation or trust the notebook. <br />On GitHub, the HTML representation is unable to render, please try loading this page with nbviewer.org.</b></div><div class=\"sk-container\" hidden><div class=\"sk-item\"><div class=\"sk-estimator sk-toggleable\"><input class=\"sk-toggleable__control sk-hidden--visually\" id=\"sk-estimator-id-1\" type=\"checkbox\" checked><label for=\"sk-estimator-id-1\" class=\"sk-toggleable__label sk-toggleable__label-arrow\">LogisticRegression</label><div class=\"sk-toggleable__content\"><pre>LogisticRegression(class_weight=&#x27;balanced&#x27;, random_state=1, solver=&#x27;saga&#x27;)</pre></div></div></div></div></div>"
      ],
      "text/plain": [
       "LogisticRegression(class_weight='balanced', random_state=1, solver='saga')"
      ]
     },
     "execution_count": 11,
     "metadata": {},
     "output_type": "execute_result"
    }
   ],
   "source": [
    "# recreate and save best model\n",
    "\n",
    "# features selection\n",
    "\n",
    "# number of features\n",
    "k = 150\n",
    "\n",
    "anova = SelectKBest(score_func = f_classif, k = k)\n",
    "anova.fit(X_train_scaled, y_train)\n",
    "\n",
    "X_train_k_best = anova.transform(X_train_scaled)\n",
    "X_val_k_best = anova.transform(X_val_scaled)\n",
    "\n",
    "# undersampling\n",
    "\n",
    "# initialize near miss from imbalanced-learn library\n",
    "near_miss = NearMiss()\n",
    "  \n",
    "X_train_miss, y_train_miss = near_miss.fit_resample(X_train_k_best, y_train.ravel())\n",
    "\n",
    "# initialize model\n",
    "logistic_reg = LogisticRegression(random_state = random_state, penalty = 'l2',\n",
    "                                  class_weight = 'balanced', solver = 'saga')\n",
    "\n",
    "logistic_reg.fit(X_train_miss, y_train_miss)"
   ]
  },
  {
   "cell_type": "code",
   "execution_count": null,
   "id": "9516e0af",
   "metadata": {
    "id": "9516e0af"
   },
   "outputs": [],
   "source": [
    "# save the model\n",
    "model_filename = './models/best_model.sav'\n",
    "pickle.dump(logistic_reg, open(model_filename, 'wb'))"
   ]
  },
  {
   "cell_type": "code",
   "execution_count": 12,
   "id": "44720604",
   "metadata": {},
   "outputs": [],
   "source": [
    "# save ANOVA\n",
    "anova_filename = './models/anova.sav'\n",
    "pickle.dump(anova, open(anova_filename, 'wb'))"
   ]
  },
  {
   "cell_type": "code",
   "execution_count": 15,
   "id": "31e07f6d",
   "metadata": {},
   "outputs": [],
   "source": [
    "# save scaler\n",
    "scaler_filename = './models/scaler.sav'\n",
    "pickle.dump(scaler, open(scaler_filename, 'wb'))"
   ]
  },
  {
   "cell_type": "code",
   "execution_count": null,
   "id": "be61a38e",
   "metadata": {
    "id": "be61a38e",
    "outputId": "cc7bac36-339c-4080-ac56-9fa9c9828f44"
   },
   "outputs": [
    {
     "name": "stdout",
     "output_type": "stream",
     "text": [
      "Validation set: classification report\n",
      "\n",
      "              precision    recall  f1-score   support\n",
      "\n",
      "           0       0.97      0.80      0.88     13479\n",
      "           1       0.30      0.75      0.43      1521\n",
      "\n",
      "    accuracy                           0.80     15000\n",
      "   macro avg       0.63      0.78      0.65     15000\n",
      "weighted avg       0.90      0.80      0.83     15000\n",
      "\n"
     ]
    }
   ],
   "source": [
    "# best model classification report on validation\n",
    "y_val_pred = best_model.predict(X_val_k_best)\n",
    "\n",
    "print('Validation set: classification report\\n')\n",
    "print(classification_report(y_val, y_val_pred))"
   ]
  },
  {
   "cell_type": "code",
   "execution_count": null,
   "id": "ffd58cc6",
   "metadata": {
    "id": "ffd58cc6",
    "outputId": "5ba81f7d-1bd4-4130-c683-6f92734e8218"
   },
   "outputs": [
    {
     "data": {
      "image/png": "[encoded data removed]",
      "text/plain": [
       "<Figure size 432x288 with 2 Axes>"
      ]
     },
     "metadata": {},
     "output_type": "display_data"
    }
   ],
   "source": [
    "# best model confusion matrix on validation\n",
    "cf_matrix_val = confusion_matrix(y_val, y_val_pred)\n",
    "\n",
    "# plot\n",
    "fig, _ = plt.subplots(nrows = 1)\n",
    "ax = plt.subplot(1, 1, 1)\n",
    "ax.grid(False)\n",
    "\n",
    "disp = ConfusionMatrixDisplay(cf_matrix_val, display_labels = [0,1])\n",
    "disp.plot(ax = ax)\n",
    "plt.show()"
   ]
  },
  {
   "cell_type": "markdown",
   "id": "73c09214",
   "metadata": {
    "id": "73c09214"
   },
   "source": [
    "### Test set results\n",
    "\n",
    "Let's now compute the results on the test set"
   ]
  },
  {
   "cell_type": "code",
   "execution_count": 16,
   "id": "d82608e2",
   "metadata": {
    "id": "d82608e2"
   },
   "outputs": [],
   "source": [
    "# load\n",
    "model_filename = './models/best_model.sav'\n",
    "best_model = pickle.load(open(model_filename, 'rb'))\n",
    "\n",
    "anova_filename = './models/anova.sav'\n",
    "anova = pickle.load(open(anova_filename, 'rb'))\n",
    "\n",
    "scaler_filename = './models/scaler.sav'\n",
    "scaler = pickle.load(open(scaler_filename, 'rb'))"
   ]
  },
  {
   "cell_type": "code",
   "execution_count": 17,
   "id": "8015d482",
   "metadata": {
    "id": "8015d482"
   },
   "outputs": [],
   "source": [
    "# prepare test data\n",
    "\n",
    "# scale data\n",
    "X_test_scaled = scaler.transform(X_test)\n",
    "\n",
    "# anova\n",
    "X_test_k_best = anova.transform(X_test_scaled)"
   ]
  },
  {
   "cell_type": "code",
   "execution_count": 19,
   "id": "8d7beced",
   "metadata": {
    "id": "8d7beced"
   },
   "outputs": [],
   "source": [
    "# predictions on test\n",
    "\n",
    "y_test_pred = best_model.predict(X_test_k_best)"
   ]
  },
  {
   "cell_type": "code",
   "execution_count": 20,
   "id": "15d29904",
   "metadata": {
    "id": "15d29904",
    "outputId": "3b9de7e6-21fd-4ff4-efa5-080d7272290f"
   },
   "outputs": [
    {
     "data": {
      "text/plain": [
       "0.42105263157894746"
      ]
     },
     "execution_count": 20,
     "metadata": {},
     "output_type": "execute_result"
    }
   ],
   "source": [
    "# F1 score on test\n",
    "\n",
    "f1_score(y_test, y_test_pred)"
   ]
  },
  {
   "cell_type": "code",
   "execution_count": 21,
   "id": "c6dadc9b",
   "metadata": {
    "id": "c6dadc9b",
    "outputId": "98d63096-ee26-4ae5-9600-d82af8db846e"
   },
   "outputs": [
    {
     "name": "stdout",
     "output_type": "stream",
     "text": [
      "Test set: classification report\n",
      "\n",
      "              precision    recall  f1-score   support\n",
      "\n",
      "           0       0.97      0.80      0.88     45057\n",
      "           1       0.29      0.74      0.42      4943\n",
      "\n",
      "    accuracy                           0.80     50000\n",
      "   macro avg       0.63      0.77      0.65     50000\n",
      "weighted avg       0.90      0.80      0.83     50000\n",
      "\n"
     ]
    }
   ],
   "source": [
    "# classification report on test\n",
    "\n",
    "print('Test set: classification report\\n')\n",
    "print(classification_report(y_test, y_test_pred))"
   ]
  },
  {
   "cell_type": "code",
   "execution_count": null,
   "id": "9b26384b",
   "metadata": {
    "id": "9b26384b",
    "outputId": "c2346429-4b01-49b6-938b-abfd895cc6e3",
    "scrolled": true
   },
   "outputs": [
    {
     "data": {
      "image/png": "[encoded data removed]",
      "text/plain": [
       "<Figure size 432x288 with 2 Axes>"
      ]
     },
     "metadata": {},
     "output_type": "display_data"
    }
   ],
   "source": [
    "# confusion matrix on test\n",
    "\n",
    "# best model confusion matrix on test\n",
    "cf_matrix_test = confusion_matrix(y_test, y_test_pred)\n",
    "\n",
    "# plot\n",
    "fig, _ = plt.subplots(nrows = 1)\n",
    "ax = plt.subplot(1, 1, 1)\n",
    "ax.grid(False)\n",
    "\n",
    "disp = ConfusionMatrixDisplay(cf_matrix_test, display_labels = [0,1])\n",
    "disp.plot(ax = ax)\n",
    "plt.show()"
   ]
  },
  {
   "cell_type": "markdown",
   "id": "756cfa68",
   "metadata": {
    "id": "756cfa68"
   },
   "source": [
    "## Conclusion"
   ]
  },
  {
   "cell_type": "markdown",
   "id": "4090adf2",
   "metadata": {
    "id": "4090adf2"
   },
   "source": [
    "This work was focused on achieving better results in the binary classification task by trying to reduce the impact of the imbalance and the high-dimensionality of the dataset. It was possible to observe some little improvements with respect to the initial results given by the baseline. \n",
    "\n",
    "The final scores aren't bad, with an weighted average F1 score of 0.83 on the test set.\n",
    "\n",
    "However, some future work could improve the score for the less-represented class, which is below 0.5. A couple of possibilities could be:\n",
    "\n",
    "- a more complex classification model: for example, a neural network with some hidden layers. In this case, the work could be focused on trying to find the best hyperparameters for this model (e.g.: number of hidden layers, activation function, use of dropout, etc.);\n",
    "\n",
    "- a different solution for the imbalance problem. With undersampling we're throwing away lots of samples and potentially useful information: finding a method that solve the imbalance problem and work on as many instances as possible could improve the results."
   ]
  },
  {
   "cell_type": "markdown",
   "id": "73c2b0a0",
   "metadata": {
    "id": "73c2b0a0"
   },
   "source": [
    "## References"
   ]
  },
  {
   "cell_type": "markdown",
   "id": "45959b21",
   "metadata": {
    "id": "45959b21"
   },
   "source": [
    "Resampling strategies for imbalanced datasets https://www.kaggle.com/code/rafjaa/resampling-strategies-for-imbalanced-datasets/notebook\n",
    "\n",
    "Undersampling algorithms for imbalanced classification https://machinelearningmastery.com/undersampling-algorithms-for-imbalanced-classification/\n",
    "\n",
    "Smote for Imbalanced Classification in Python https://machinelearningmastery.com/smote-oversampling-for-imbalanced-classification/\n",
    "\n",
    "One-Class classification for Imbalanced Datasets https://machinelearningmastery.com/one-class-classification-algorithms/"
   ]
  }
 ],
 "metadata": {
  "colab": {
   "provenance": [],
   "toc_visible": true
  },
  "gpuClass": "standard",
  "kernelspec": {
   "display_name": "Python 3 (ipykernel)",
   "language": "python",
   "name": "python3"
  },
  "language_info": {
   "codemirror_mode": {
    "name": "ipython",
    "version": 3
   },
   "file_extension": ".py",
   "mimetype": "text/x-python",
   "name": "python",
   "nbconvert_exporter": "python",
   "pygments_lexer": "ipython3",
   "version": "3.10.4"
  }
 },
 "nbformat": 4,
 "nbformat_minor": 5
}
